{
 "cells": [
  {
   "cell_type": "code",
   "execution_count": 1,
   "metadata": {},
   "outputs": [],
   "source": [
    "import numpy as np\n",
    "import matplotlib.pyplot as plt"
   ]
  },
  {
   "cell_type": "code",
   "execution_count": 2,
   "metadata": {},
   "outputs": [],
   "source": [
    "def gera_matriz(ł, N):\n",
    "    A = np.zeros((N, N))\n",
    "    for i in range(N):\n",
    "        A[i, i] = 1 + 2*ł\n",
    "    for i in range(1, N):\n",
    "        A[i, i-1] = -ł\n",
    "    for i in range(0, N-1):\n",
    "        A[i, i+1] = -ł\n",
    "    return A"
   ]
  },
  {
   "cell_type": "code",
   "execution_count": 3,
   "metadata": {},
   "outputs": [
    {
     "data": {
      "text/plain": [
       "array([[ 1.        , -0.33333333,  0.        ,  0.        ,  0.        ],\n",
       "       [ 0.        ,  1.        , -0.33333333,  0.        ,  0.        ],\n",
       "       [ 0.        ,  0.        ,  1.        , -0.33333333,  0.        ],\n",
       "       [ 0.        ,  0.        ,  0.        ,  1.        , -0.33333333],\n",
       "       [ 0.        ,  0.        ,  0.        ,  0.        ,  1.        ]])"
      ]
     },
     "execution_count": 3,
     "metadata": {},
     "output_type": "execute_result"
    }
   ],
   "source": [
    "lamb = 0.5\n",
    "N = 5\n",
    "A = gera_matriz(1, N)\n",
    "A = A/3\n",
    "A[1][0] = A[2][1] = A[3][2] = A[4][3] = 0\n",
    "A"
   ]
  },
  {
   "cell_type": "code",
   "execution_count": 4,
   "metadata": {},
   "outputs": [],
   "source": [
    "def decomporLDL(ł, N):\n",
    "\n",
    "    # L e D Vetores\n",
    "    D = np.zeros(N)\n",
    "    L = np.zeros(N-1)\n",
    "\n",
    "\n",
    "    # Condição inicial para prossegir com os cálculos\n",
    "    D[0] = D[0]\n",
    "\n",
    "    # Cálculo dos valores dos vetores L e D\n",
    "    for i in range (1, len(D)):\n",
    "        D[i] = D[0] - (((L[0]/ł)**2)*ł)\n",
    "    \n",
    "    for i in range (0, len(L)):\n",
    "        L[i] = L[0]/ł\n",
    "\n",
    "    # Criação das matrizes L e D a partir dos vetores\n",
    "    D_matriz = np.zeros((N, N))\n",
    "    L_matriz = np.zeros((N, N))\n",
    "\n",
    "    for i in range (0, N):\n",
    "        D_matriz[i][i] = D[i]\n",
    "        L_matriz[i][i] = 1      # A matriz L deve ter 1's na diagonal principal\n",
    "    \n",
    "    for i in range (0, N-1):\n",
    "        L_matriz[i+1][i] = L[i] #Colocando a subdiagonal de L\n",
    "\n",
    "    LT_matriz = np.transpose(L_matriz)\n",
    "\n",
    "    return (L_matriz, D_matriz, LT_matriz)\n",
    "def invert_diagonal(M):\n",
    "    inverse = np.diag(np.ones((M.shape[0])))\n",
    "    for i in range(M.shape[0]):\n",
    "        try:\n",
    "            inverse[i][i] = 1/M[i][i]\n",
    "        except Exception as e:\n",
    "            print(e)\n",
    "    return inverse\n",
    "\n",
    "def invert_bidiagonal(M, type):\n",
    "    inverse = np.diag(np.ones((M.shape[0])))\n",
    "    if type == \"lower\":\n",
    "        M = np.transpose(M)\n",
    "        inverse = invert_bidiagonal(M, \"upper\")\n",
    "        return np.transpose(inverse)\n",
    "\n",
    "    elif type == \"upper\":\n",
    "        for i in range(M.shape[0] - 1):\n",
    "            inverse[i][i+1] = -M[i][i+1]\n",
    "        for k in range(2, M.shape[0]):\n",
    "            for i in range(M.shape[0] - k):\n",
    "                inverse[i][k+i] = inverse[i][k+i-1]*inverse[i+1][k+i]/inverse[i+1][k+i-1]\n",
    "\n",
    "        return inverse\n"
   ]
  },
  {
   "cell_type": "code",
   "execution_count": 20,
   "metadata": {},
   "outputs": [],
   "source": [
    "N = 10\n",
    "lamb = 0.5\n",
    "x_total = t_total = 1\n",
    "item = 'a'"
   ]
  },
  {
   "cell_type": "code",
   "execution_count": 21,
   "metadata": {},
   "outputs": [
    {
     "data": {
      "text/plain": [
       "array([[1.        , 0.33333333, 0.11111111, 0.03703704, 0.01234568],\n",
       "       [0.        , 1.        , 0.33333333, 0.11111111, 0.03703704],\n",
       "       [0.        , 0.        , 1.        , 0.33333333, 0.11111111],\n",
       "       [0.        , 0.        , 0.        , 1.        , 0.33333333],\n",
       "       [0.        , 0.        , 0.        , 0.        , 1.        ]])"
      ]
     },
     "execution_count": 21,
     "metadata": {},
     "output_type": "execute_result"
    }
   ],
   "source": [
    "invert_bidiagonal(A, \"upper\")"
   ]
  },
  {
   "cell_type": "code",
   "execution_count": 22,
   "metadata": {},
   "outputs": [
    {
     "data": {
      "text/plain": [
       "0.0625"
      ]
     },
     "execution_count": 22,
     "metadata": {},
     "output_type": "execute_result"
    }
   ],
   "source": [
    "item = 'a'\n",
    "cond_ini(0.5, 20)"
   ]
  },
  {
   "cell_type": "code",
   "execution_count": 23,
   "metadata": {},
   "outputs": [],
   "source": [
    "def funcao_fonte(x_pt, t, N): # funcao de entrada\n",
    "    global item\n",
    "    #return 10*(x_pt**2)*(x_pt-1) - 60*x_pt*t + 20*t\n",
    "    if item == 'a':\n",
    "        return 10*(np.cos(10*t))*(x_pt**2)*((1-x_pt)**2) - (1+(np.sin(10*t)))*(12*(x_pt**2)-12*x_pt+2) # item a\n",
    "    elif item == 'b':\n",
    "        return (np.exp(t-x_pt)*(-np.sin(5*t*x_pt)*5*x_pt - 10*t*np.sin(5*t*x_pt)+np.cos(5*t*x_pt)*25*t*t))   # item b\n",
    "    elif item == 'c':\n",
    "        if x_pt == int(N*0.25):\n",
    "            return (10000*(1 - 2*t*t))/delta_x\n",
    "        else:\n",
    "            return 0\n",
    "\n",
    "\n",
    "def funcao_exata(x, t):\n",
    "    #return (10*t*x*x*(x-1))\n",
    "    if item =='a':\n",
    "        return ((1 + np.sin(10*t))*(x**2)*((1-x)**2))\n",
    "    elif item == 'b':\n",
    "        return np.exp(t-x)*np.cos(5*t*x)\n",
    "\n",
    "def gera_matriz_funcao_exata(M, N, delta_t, delta_x):\n",
    "    f_exata = np.zeros((int(M)+1, int(N)+1), dtype='float64')\n",
    "    for i in range(1, int(M)+1):\n",
    "        t = (i-1)*delta_t\n",
    "        for j in range(1, int(N)+1):\n",
    "            x = j*delta_x\n",
    "            f_exata[i][j] = funcao_exata(x, t)\n",
    "    for i in range (0,N): # para todos os x's analisados\n",
    "        f_exata[0][i] = cond_ini(i*delta_x, N)\n",
    "\n",
    "    for j in range(0, int(M)+1): # para todos os t's analisados\n",
    "        f_exata[j][0] = g1(j*delta_t)\n",
    "        f_exata[j][N] = g2(j*delta_t)\n",
    "    return f_exata\n",
    "\n",
    "def cond_ini (x, N):\n",
    "    #return ((x**2)*((1-x)**2))\n",
    "    if item =='a':\n",
    "        return ((x**2)*((1-x)**2))\n",
    "    elif item =='b':\n",
    "        return np.exp(-x)       \n",
    "    elif item == 'c':\n",
    "        return funcao_fonte(x, 0, N)\n",
    "\n",
    "def g1(t): # condição de contorno, x=0\n",
    "    \n",
    "    if item == 'a' or item == 'c':\n",
    "        return 0\n",
    "    elif item =='b': \n",
    "        return (np.exp(t))\n",
    "\n",
    "def g2(t): # condição de contorno, x=1\n",
    "    \n",
    "    if item =='a' or item == 'c':\n",
    "        \n",
    "        return 0\n",
    "    elif item =='b':\n",
    "\n",
    "        return (np.exp(t-1)*np.cos(5*t))\n",
    "\n",
    "'''\n",
    "A decomposição LDLt recebe\n",
    "\n",
    "- a: Vetor com a diagonal principal da matriz\n",
    "- b: Vetor com a subdiagonal da matriz\n",
    "\n",
    "E retorna\n",
    "- L: matriz bidiagonal inferior\n",
    "- D: Matriz diagonal\n",
    "- Lt: A transposta de L\n",
    "'''\n",
    "\n",
    "def decomporLDL(ł, N):\n",
    "    # L e D Vetores\n",
    "    D = np.zeros(N)\n",
    "    L = np.zeros(N-1)\n",
    "\n",
    "    # Condição inicial para prossegir com os cálculos\n",
    "    D[0] = 1 + 2*ł\n",
    "    # Cálculo dos valores dos vetores L e D\n",
    "    for i in range (1, len(D)):\n",
    "        D[i] = 1+2*ł - (((-ł/D[i-1])**2)*D[i-1])\n",
    "    \n",
    "    for i in range (0, len(L)):\n",
    "        L[i] = -ł/D[i]\n",
    "\n",
    "    # Criação das matrizes L e D a partir dos vetores\n",
    "    D_matriz = np.zeros((N, N))\n",
    "    L_matriz = np.zeros((N, N))\n",
    "\n",
    "    for i in range (0, N):\n",
    "        D_matriz[i][i] = D[i]\n",
    "        L_matriz[i][i] = 1      # A matriz L deve ter 1's na diagonal principal\n",
    "    \n",
    "    for i in range (0, N-1):\n",
    "        L_matriz[i+1][i] = L[i] #Colocando a subdiagonal de L\n",
    "\n",
    "    LT_matriz = np.transpose(L_matriz)\n",
    "\n",
    "    return (L_matriz, D_matriz, LT_matriz)\n",
    "\n",
    "\n",
    "def invert_diagonal(M):\n",
    "    inverse = np.diag(np.ones((M.shape[0])))\n",
    "    for i in range(M.shape[0]):\n",
    "        try:\n",
    "            inverse[i][i] = 1/M[i][i]\n",
    "        except Exception as e:\n",
    "            print(e)\n",
    "    return inverse\n",
    "\n",
    "\n",
    "def invert_bidiagonal(M, type):\n",
    "    inverse = np.diag(np.ones((M.shape[0])))\n",
    "    if type == \"lower\":\n",
    "        M = np.transpose(M)\n",
    "        inverse = invert_bidiagonal(M, \"upper\")\n",
    "        return np.transpose(inverse)\n",
    "\n",
    "    elif type == \"upper\":\n",
    "        for i in range(M.shape[0] - 1):\n",
    "            inverse[i][i+1] = -M[i][i+1]\n",
    "        for k in range(2, M.shape[0]):  \n",
    "            for i in range(M.shape[0] - k):\n",
    "                inverse[i][k+i] = inverse[i][k+i-1]*inverse[i+1][k+i]/inverse[i+1][k+i-1]\n",
    "\n",
    "        return inverse\n"
   ]
  },
  {
   "cell_type": "code",
   "execution_count": 24,
   "metadata": {},
   "outputs": [],
   "source": [
    "v = np.zeros((N-1))                    \n",
    "M = N\n",
    "L, D, Lt = decomporLDL(lamb, N - 1)\n",
    "for k in range (0,int(M)): # para cada intervalo de tempo\n",
    "    t = (k+1)*delta_t\n",
    "    v[0] =  (1-lamb)*matriz[k][1] + lamb*(matriz[k][0] + g1(k*delta_t) + matriz[k][2])/2 + delta_t*(funcao_fonte(delta_x, k*delta_t, N-1) + funcao_fonte(delta_x, t, N-1))/2\n",
    "    v[N-2] = (1-lamb)*matriz[k][N-1] + lamb*(matriz[k][N] + g2(k*delta_t) + matriz[k][N-2])/2 + delta_t*(funcao_fonte((N-1)*delta_x, k*delta_t, N-1) + funcao_fonte((N-1)*delta_x, t, N-1))/2\n",
    "    for j in range(1, N-2): # para cada x\n",
    "        x = j*delta_x\n",
    "        v[j] = (1-lamb)*matriz[k][j] + lamb*(matriz[k][j-1] - 2*matriz[k][j] + matriz[k][j+1])/2 + delta_t*(funcao_fonte(x, k*delta_t, N-1) + funcao_fonte(x, t, N-1))\n",
    "    \n",
    "\n",
    "#     aux = np.dot(invert_bidiagonal(L, \"lower\"), v)\n",
    "#     aux = np.dot(invert_diagonal(D), aux)\n",
    "#     matriz[k+1][0:N-1] = np.dot(invert_bidiagonal(Lt, \"upper\"), aux) # elementor [1, N-1]"
   ]
  },
  {
   "cell_type": "code",
   "execution_count": 25,
   "metadata": {},
   "outputs": [
    {
     "name": "stdout",
     "output_type": "stream",
     "text": [
      "Calculo para N=10, lambda=0.5\n"
     ]
    }
   ],
   "source": [
    "print(\"Calculo para N={}, lambda={}\".format(N, lamb))\n",
    "delta_x = x_total/N     # resolucao espacial do analise\n",
    "M = N         # numero de instantes de tempo analisados\n",
    "delta_t = delta_x     # resolucao temporal da analise\n",
    "\n",
    "# ####### zolubas\n",
    "# M = (N**2)/lamb         # numero de instantes de tempo analisados\n",
    "# delta_x = x_total/N     # resolucao espacial do analise\n",
    "# delta_t = t_total/M     # resolucao temporal da analise\n",
    "\n",
    "                # Variaveis para acompanhar o andamento do processo\n",
    "               \n",
    "matriz = np.zeros((int(M)+1, int(N)+1), dtype='float64')    # inicializacao da matriz\n",
    "for i in range (0,N+1):                                       # para todos os x's analisados\n",
    "    matriz[0][i] = cond_ini(i*delta_x, N)\n",
    "\n",
    "for j in range(0, int(M)+1):                                # para todos os t's analisados\n",
    "    matriz[j][0] = g1(j*delta_t)\n",
    "    matriz[j][N] = g2(j*delta_t)"
   ]
  },
  {
   "cell_type": "code",
   "execution_count": 26,
   "metadata": {},
   "outputs": [],
   "source": [
    "def solve(A, b, m_type):\n",
    "    if A.shape[0] != A.shape[1]:\n",
    "        print(\"Erro, matriz nao quadrada!\")\n",
    "        return -1\n",
    "    solution = np.zeros((A.shape[0]))\n",
    "    if m_type == \"lower\":\n",
    "        solution[0] = b[0]/A[0][0]\n",
    "        for i in range(1, A.shape[0]):\n",
    "            solution[i] = b[i] - A[i][i-1]*solution[i-1]\n",
    "        return solution\n",
    "    \n",
    "    elif m_type == \"upper\":\n",
    "        \n",
    "        solution[A.shape[0] - 1] = b[A.shape[0]-1]/A[A.shape[0] - 1][A.shape[0] - 1]\n",
    "        for i in range(2, A.shape[0]-1):\n",
    "            j = A.shape[0] - i\n",
    "            solution[j] = b[j] - A[j][j+1]*solution[j+1]\n",
    "        return solution\n",
    "    \n",
    "    elif m_type == \"diagonal\":\n",
    "        for i in range(A.shape[0]):\n",
    "            solution[i] = b[i]/A[i][i]\n",
    "        return solution"
   ]
  },
  {
   "cell_type": "code",
   "execution_count": 27,
   "metadata": {},
   "outputs": [],
   "source": [
    "v = np.zeros((N-1))                    \n",
    "\n",
    "L, D, Lt = decomporLDL(lamb, N - 1)\n",
    "for k in range (0,int(M)): # para cada intervalo de tempo\n",
    "    t = (k+1)*delta_t\n",
    "    v[0] =  matriz[k][1] + 0.5*lamb*(matriz[k+1][0] + matriz[k][0] - 2*matriz[k][1]+ matriz[k][2]) + 0.5*delta_t*(funcao_fonte(delta_x, k*delta_t, N-1) + funcao_fonte(delta_x, t, N-1))\n",
    "    for j in range(0, N-1): # para cada x\n",
    "        x = j*delta_x\n",
    "        #v[j] = (1-lamb)*matriz[k][j] + lamb*(matriz[k][j-1] - 2*matriz[k][j] + matriz[k][j+1])/2 + delta_t*(funcao_fonte(x, k*delta_t, N-1) + funcao_fonte(x, t, N-1))\n",
    "        v[j] = matriz[k][j] + 0.5*lamb*(matriz[k][j-1] - 2*matriz[k][j] + matriz[k][j+1]) + 0.5*delta_t*(funcao_fonte(x, k*delta_t, N-1) + funcao_fonte(x, t, N-1))\n",
    "    \n",
    "    v[N-2] = matriz[k][N-1] + 0.5*lamb*(matriz[k+1][N] + matriz[k][N] - 2*matriz[k][N-1] + matriz[k][N-2]) + 0.5*delta_t*(funcao_fonte((N-1)*delta_x, k*delta_t, N-1) + funcao_fonte((N-1)*delta_x, t, N-1))\n",
    "    \n",
    "\n",
    "    y = solve(L, v, \"lower\")\n",
    "    z = solve(D, y, \"diagonal\")\n",
    "    matriz[k+1][0:N-1] = solve(Lt, z, \"upper\")"
   ]
  },
  {
   "cell_type": "code",
   "execution_count": 28,
   "metadata": {},
   "outputs": [
    {
     "data": {
      "text/plain": [
       "<matplotlib.image.AxesImage at 0x7fc2b1e61d30>"
      ]
     },
     "execution_count": 28,
     "metadata": {},
     "output_type": "execute_result"
    },
    {
     "data": {
      "image/png": "[encoded data removed]",
      "text/plain": [
       "<Figure size 432x288 with 1 Axes>"
      ]
     },
     "metadata": {
      "needs_background": "light"
     },
     "output_type": "display_data"
    }
   ],
   "source": [
    "plt.figure()\n",
    "plt.xlabel(\"Tempo (t)\")\n",
    "plt.ylabel(\"Posicao (x)\")\n",
    "plt.matshow(np.transpose(matriz), fignum = 0, interpolation = 'none', cmap = 'hot', origin = 'lower', aspect=\"auto\")"
   ]
  },
  {
   "cell_type": "code",
   "execution_count": 29,
   "metadata": {},
   "outputs": [
    {
     "data": {
      "text/plain": [
       "<matplotlib.image.AxesImage at 0x7fc2b551c208>"
      ]
     },
     "execution_count": 29,
     "metadata": {},
     "output_type": "execute_result"
    },
    {
     "data": {
      "image/png": "[encoded data removed]",
      "text/plain": [
       "<Figure size 432x288 with 1 Axes>"
      ]
     },
     "metadata": {
      "needs_background": "light"
     },
     "output_type": "display_data"
    }
   ],
   "source": [
    "matriz_ideal = gera_matriz_funcao_exata(M, N, delta_t, delta_x)\n",
    "matriz_ideal = np.transpose(matriz_ideal)\n",
    "plt.xlabel(\"Tempo (t)\")\n",
    "plt.ylabel(\"Posicao (x)\")\n",
    "plt.matshow(matriz_ideal, fignum = 0, interpolation = 'none', cmap = 'hot', origin = 'lower', aspect=\"auto\")"
   ]
  },
  {
   "cell_type": "code",
   "execution_count": 30,
   "metadata": {},
   "outputs": [
    {
     "data": {
      "text/plain": [
       "array([[ 1.5 , -0.25,  0.  ,  0.  ,  0.  ,  0.  ,  0.  ,  0.  ,  0.  ],\n",
       "       [-0.25,  1.5 , -0.25,  0.  ,  0.  ,  0.  ,  0.  ,  0.  ,  0.  ],\n",
       "       [ 0.  , -0.25,  1.5 , -0.25,  0.  ,  0.  ,  0.  ,  0.  ,  0.  ],\n",
       "       [ 0.  ,  0.  , -0.25,  1.5 , -0.25,  0.  ,  0.  ,  0.  ,  0.  ],\n",
       "       [ 0.  ,  0.  ,  0.  , -0.25,  1.5 , -0.25,  0.  ,  0.  ,  0.  ],\n",
       "       [ 0.  ,  0.  ,  0.  ,  0.  , -0.25,  1.5 , -0.25,  0.  ,  0.  ],\n",
       "       [ 0.  ,  0.  ,  0.  ,  0.  ,  0.  , -0.25,  1.5 , -0.25,  0.  ],\n",
       "       [ 0.  ,  0.  ,  0.  ,  0.  ,  0.  ,  0.  , -0.25,  1.5 , -0.25],\n",
       "       [ 0.  ,  0.  ,  0.  ,  0.  ,  0.  ,  0.  ,  0.  , -0.25,  1.5 ]])"
      ]
     },
     "execution_count": 30,
     "metadata": {},
     "output_type": "execute_result"
    }
   ],
   "source": [
    "M = gera_matriz(lamb/2, N-1)\n",
    "M"
   ]
  },
  {
   "cell_type": "code",
   "execution_count": null,
   "metadata": {},
   "outputs": [],
   "source": [
    "matriz[0,:]"
   ]
  },
  {
   "cell_type": "code",
   "execution_count": null,
   "metadata": {},
   "outputs": [],
   "source": [
    "matriz[1,:]"
   ]
  },
  {
   "cell_type": "code",
   "execution_count": null,
   "metadata": {},
   "outputs": [],
   "source": [
    "matriz_ideal[1,:]"
   ]
  },
  {
   "cell_type": "code",
   "execution_count": null,
   "metadata": {},
   "outputs": [],
   "source": [
    "np.dot(M, matriz[1,0:N-1])"
   ]
  },
  {
   "cell_type": "code",
   "execution_count": null,
   "metadata": {},
   "outputs": [],
   "source": [
    "v"
   ]
  },
  {
   "cell_type": "code",
   "execution_count": null,
   "metadata": {},
   "outputs": [],
   "source": [
    "np.dot(M, matriz_ideal[1,0:N-1])"
   ]
  },
  {
   "cell_type": "code",
   "execution_count": null,
   "metadata": {},
   "outputs": [],
   "source": [
    "np.dot(np.linalg.inv(M), v)"
   ]
  },
  {
   "cell_type": "code",
   "execution_count": null,
   "metadata": {},
   "outputs": [],
   "source": [
    "np.dot(L, np.dot(D, Lt))"
   ]
  },
  {
   "cell_type": "code",
   "execution_count": null,
   "metadata": {},
   "outputs": [],
   "source": []
  }
 ],
 "metadata": {
  "kernelspec": {
   "display_name": "Python 3",
   "language": "python",
   "name": "python3"
  },
  "language_info": {
   "codemirror_mode": {
    "name": "ipython",
    "version": 3
   },
   "file_extension": ".py",
   "mimetype": "text/x-python",
   "name": "python",
   "nbconvert_exporter": "python",
   "pygments_lexer": "ipython3",
   "version": "3.6.9"
  }
 },
 "nbformat": 4,
 "nbformat_minor": 4
}
