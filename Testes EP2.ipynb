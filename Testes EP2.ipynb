{
 "cells": [
  {
   "cell_type": "code",
   "execution_count": 1,
   "metadata": {},
   "outputs": [],
   "source": [
    "import numpy as np\n",
    "import matplotlib.pyplot as plt"
   ]
  },
  {
   "cell_type": "code",
   "execution_count": 35,
   "metadata": {},
   "outputs": [],
   "source": [
    "def decomposeLDLt(A):\n",
    "    troca = False\n",
    "    linha = np.zeros((1,len(A)))\n",
    "    linha_tr = np.zeros((1,len(A)))\n",
    "\n",
    "    P = np.zeros((len(A), len(A)))\n",
    "    np.fill_diagonal(P, 1)\n",
    "\n",
    "    #--------------------------------------------------------------------------------------------------\n",
    "    #-----------------------------------Condensação pivotal--------------------------------------------\n",
    "    #--------------------------------------------------------------------------------------------------\n",
    "    \n",
    "    for i in range (len(A)):\n",
    "\n",
    "        atual = abs(A[i][i])\n",
    "\n",
    "        for j in range (len(A)-i):\n",
    "\n",
    "            if(abs(A[len(A)-j-1][i]) > atual):\n",
    "                atual = abs(A[len(A)-j-1][i])\n",
    "                num_linha = len(A)-j-1\n",
    "                for k in range (len(A)):\n",
    "                    linha[0][k] = A[len(A)-j-1][k]\n",
    "                troca = True\n",
    "\n",
    "        if (troca == True):\n",
    "\n",
    "            for k in range (len(A)):\n",
    "                linha_tr[0][k] = A[i][k]\n",
    "            for k in range (len(A)):\n",
    "                A[num_linha][k] = linha_tr[0][k]\n",
    "                A[i][k] = linha[0][k]\n",
    "            P[[i,num_linha]] = P[[num_linha, i]]\n",
    "        troca = False\n",
    "\n",
    "    #--------------------------------------------------------------------------------------------------\n",
    "    #-----------------------------------Calculo de L e U-----------------------------------------------\n",
    "    #--------------------------------------------------------------------------------------------------\n",
    "\n",
    "    L = np.zeros((len(A), len(A)))\n",
    "    np.fill_diagonal(L, 1)\n",
    "    D = np.zeros((len(A), len(A)))\n",
    "    U = np.zeros((len(A), len(A)))\n",
    "\n",
    "    for i in range (len(A)-1):\n",
    "        for k in range (i + 1, len(A)):\n",
    "            L[k][i] = A[k][i]\n",
    "\n",
    "    for i in range (len(A)):\n",
    "        for k in range (1+i):\n",
    "            if k == i:\n",
    "                U[k][i] = 1\n",
    "            else:\n",
    "                U[k][i] = A[k][i]/A[k][k]\n",
    "    for i in range(len(A)):\n",
    "        D[i][i] = A[i][i]\n",
    "        \n",
    "    return L, D, U"
   ]
  },
  {
   "cell_type": "code",
   "execution_count": 36,
   "metadata": {},
   "outputs": [
    {
     "data": {
      "text/plain": [
       "(array([[1., 0., 0., 0.],\n",
       "        [3., 1., 0., 0.],\n",
       "        [5., 3., 1., 0.],\n",
       "        [6., 3., 2., 1.]]),\n",
       " array([[6., 0., 0., 0.],\n",
       "        [0., 6., 0., 0.],\n",
       "        [0., 0., 6., 0.],\n",
       "        [0., 0., 0., 2.]]),\n",
       " array([[1.        , 0.5       , 0.33333333, 1.5       ],\n",
       "        [0.        , 1.        , 0.5       , 0.5       ],\n",
       "        [0.        , 0.        , 1.        , 1.        ],\n",
       "        [0.        , 0.        , 0.        , 1.        ]]))"
      ]
     },
     "execution_count": 36,
     "metadata": {},
     "output_type": "execute_result"
    }
   ],
   "source": [
    "A = np.array([[5, 3, 6, 6],\n",
    "              [3, 6, 3, 3],\n",
    "              [6, 3, 2, 2],\n",
    "              [6, 3, 2, 9]])\n",
    "decomposeLDLt(A)"
   ]
  },
  {
   "cell_type": "code",
   "execution_count": 37,
   "metadata": {},
   "outputs": [],
   "source": [
    "L, D, Lt = decomposeLDLt(A)"
   ]
  },
  {
   "cell_type": "code",
   "execution_count": 38,
   "metadata": {},
   "outputs": [
    {
     "data": {
      "text/plain": [
       "array([[1., 0., 0., 0.],\n",
       "       [3., 1., 0., 0.],\n",
       "       [5., 3., 1., 0.],\n",
       "       [6., 3., 2., 1.]])"
      ]
     },
     "execution_count": 38,
     "metadata": {},
     "output_type": "execute_result"
    }
   ],
   "source": [
    "L"
   ]
  },
  {
   "cell_type": "code",
   "execution_count": 39,
   "metadata": {},
   "outputs": [
    {
     "data": {
      "text/plain": [
       "array([[1.        , 0.5       , 0.33333333, 1.5       ],\n",
       "       [0.        , 1.        , 0.5       , 0.5       ],\n",
       "       [0.        , 0.        , 1.        , 1.        ],\n",
       "       [0.        , 0.        , 0.        , 1.        ]])"
      ]
     },
     "execution_count": 39,
     "metadata": {},
     "output_type": "execute_result"
    }
   ],
   "source": [
    "Lt"
   ]
  },
  {
   "cell_type": "code",
   "execution_count": 102,
   "metadata": {},
   "outputs": [],
   "source": [
    "import time\n",
    "\n",
    "def burdens(A):\n",
    "    L = np.diag(np.ones(len(A)))\n",
    "    D = np.diag(np.ones(len(A)))\n",
    "    v = np.ones(len(A))\n",
    "    for i in range(len(A)):\n",
    "        for j in range(i):\n",
    "            print(\"v[{}] = L[{}][{}] * D[{}]\".format(j, i, j, j, L[i][j],D[j][j]))\n",
    "            print(\"v[{}] = {} * {}\".format(j, L[i][j],D[j][j]))\n",
    "            time.sleep(1)\n",
    "            v[j] = L[i][j]*D[j][j]\n",
    "        summ = 0\n",
    "        for k in range(i):\n",
    "            summ += L[i][k]*v[k]\n",
    "        D[i][i] = A[i][i] - summ\n",
    "        \n",
    "        \n",
    "        for j in range(i+1, len(A)):\n",
    "            summ = 0\n",
    "            for k in range(i):\n",
    "                summ += L[j][k]*v[k]\n",
    "            L[j][i] = (A[j][i] - summ)/D[i][i]\n",
    "    return L, D"
   ]
  },
  {
   "cell_type": "code",
   "execution_count": 103,
   "metadata": {},
   "outputs": [
    {
     "name": "stdout",
     "output_type": "stream",
     "text": [
      "v[0] = L[1][0] * D[0]\n",
      "v[0] = 0.8 * 5.0\n",
      "v[0] = L[2][0] * D[0]\n",
      "v[0] = 0.6 * 5.0\n",
      "v[1] = L[2][1] * D[1]\n",
      "v[1] = 0.21428571428571433 * 2.8\n",
      "v[0] = L[3][0] * D[0]\n",
      "v[0] = 0.4 * 5.0\n",
      "v[1] = L[3][1] * D[1]\n",
      "v[1] = -0.21428571428571433 * 2.8\n",
      "v[2] = L[3][2] * D[2]\n",
      "v[2] = -14.999999999999963 * 0.07142857142857162\n"
     ]
    }
   ],
   "source": [
    "A = np.array([[5, 4, 3, 2],\n",
    "              [4, 6, 3, 1],\n",
    "              [3, 3, 2, 0],\n",
    "              [2, 1, 0, 9]])\n",
    "L, D = burdens(A)"
   ]
  },
  {
   "cell_type": "code",
   "execution_count": 112,
   "metadata": {},
   "outputs": [
    {
     "data": {
      "text/plain": [
       "array([[ 0.00000000e+00,  0.00000000e+00,  0.00000000e+00,\n",
       "         0.00000000e+00],\n",
       "       [ 0.00000000e+00,  0.00000000e+00,  4.44089210e-16,\n",
       "         0.00000000e+00],\n",
       "       [ 0.00000000e+00,  0.00000000e+00,  0.00000000e+00,\n",
       "        -2.22044605e-16],\n",
       "       [ 0.00000000e+00,  0.00000000e+00,  7.09974815e-30,\n",
       "         3.55271368e-15]])"
      ]
     },
     "execution_count": 112,
     "metadata": {},
     "output_type": "execute_result"
    }
   ],
   "source": [
    "L.dot(D.dot(L.T)) - A"
   ]
  }
 ],
 "metadata": {
  "kernelspec": {
   "display_name": "Python 3",
   "language": "python",
   "name": "python3"
  },
  "language_info": {
   "codemirror_mode": {
    "name": "ipython",
    "version": 3
   },
   "file_extension": ".py",
   "mimetype": "text/x-python",
   "name": "python",
   "nbconvert_exporter": "python",
   "pygments_lexer": "ipython3",
   "version": "3.6.9"
  }
 },
 "nbformat": 4,
 "nbformat_minor": 4
}
