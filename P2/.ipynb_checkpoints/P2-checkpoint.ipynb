{
 "cells": [
  {
   "cell_type": "markdown",
   "metadata": {},
   "source": [
    "# P2 de Numérico"
   ]
  },
  {
   "cell_type": "code",
   "execution_count": 43,
   "metadata": {},
   "outputs": [],
   "source": [
    "import numpy as np\n",
    "import matplotlib.pyplot as plt\n",
    "import pandas as pd\n",
    "from time import time"
   ]
  },
  {
   "cell_type": "markdown",
   "metadata": {},
   "source": [
    "## Interpolação Polinomial\n",
    "Pela Forma de **Newton**"
   ]
  },
  {
   "cell_type": "code",
   "execution_count": 2,
   "metadata": {},
   "outputs": [],
   "source": [
    "xi = np.array([0, 0.5, 1, 2])\n",
    "yi = np.array([0, 1/6, 1/3, 0.25])"
   ]
  },
  {
   "cell_type": "code",
   "execution_count": 3,
   "metadata": {},
   "outputs": [
    {
     "name": "stdout",
     "output_type": "stream",
     "text": [
      "f[1][1] = (0.16666666666666666 - 0.0)/(0.5 - 0.0)\n",
      "f[1][2] = (0.3333333333333333 - 0.16666666666666666)/(1.0 - 0.5)\n",
      "f[1][3] = (0.25 - 0.3333333333333333)/(2.0 - 1.0)\n",
      "f[2][1] = (0.3333333333333333 - 0.3333333333333333)/(0.5 - 0.0)\n",
      "f[2][2] = (-0.08333333333333331 - 0.3333333333333333)/(1.0 - 0.5)\n",
      "f[3][1] = (-0.27777777777777773 - 0.0)/(0.5 - 0.0)\n"
     ]
    }
   ],
   "source": [
    "fs = np.zeros((xi.shape[0], xi.shape[0]))\n",
    "fs[0, :] = yi\n",
    "for i in range(1, xi.shape[0]):\n",
    "    for j in range(1, xi.shape[0]-i+1):\n",
    "        print(\"f[{}][{}] = ({} - {})/({} - {})\".format(i, j, fs[i-1][j], fs[i-1][j-1], xi[j], xi[j-1]))\n",
    "        fs[i][j-1] = (fs[i-1][j] - fs[i-1][j-1])/(xi[j+i-1] - xi[j-1])"
   ]
  },
  {
   "cell_type": "code",
   "execution_count": 4,
   "metadata": {},
   "outputs": [
    {
     "data": {
      "text/html": [
       "<div>\n",
       "<style scoped>\n",
       "    .dataframe tbody tr th:only-of-type {\n",
       "        vertical-align: middle;\n",
       "    }\n",
       "\n",
       "    .dataframe tbody tr th {\n",
       "        vertical-align: top;\n",
       "    }\n",
       "\n",
       "    .dataframe thead th {\n",
       "        text-align: right;\n",
       "    }\n",
       "</style>\n",
       "<table border=\"1\" class=\"dataframe\">\n",
       "  <thead>\n",
       "    <tr style=\"text-align: right;\">\n",
       "      <th></th>\n",
       "      <th>0</th>\n",
       "      <th>1</th>\n",
       "      <th>2</th>\n",
       "      <th>3</th>\n",
       "    </tr>\n",
       "  </thead>\n",
       "  <tbody>\n",
       "    <tr>\n",
       "      <th>0</th>\n",
       "      <td>0.000000</td>\n",
       "      <td>0.333333</td>\n",
       "      <td>0.000000</td>\n",
       "      <td>-0.138889</td>\n",
       "    </tr>\n",
       "    <tr>\n",
       "      <th>1</th>\n",
       "      <td>0.166667</td>\n",
       "      <td>0.333333</td>\n",
       "      <td>-0.277778</td>\n",
       "      <td>0.000000</td>\n",
       "    </tr>\n",
       "    <tr>\n",
       "      <th>2</th>\n",
       "      <td>0.333333</td>\n",
       "      <td>-0.083333</td>\n",
       "      <td>0.000000</td>\n",
       "      <td>0.000000</td>\n",
       "    </tr>\n",
       "    <tr>\n",
       "      <th>3</th>\n",
       "      <td>0.250000</td>\n",
       "      <td>0.000000</td>\n",
       "      <td>0.000000</td>\n",
       "      <td>0.000000</td>\n",
       "    </tr>\n",
       "  </tbody>\n",
       "</table>\n",
       "</div>"
      ],
      "text/plain": [
       "          0         1         2         3\n",
       "0  0.000000  0.333333  0.000000 -0.138889\n",
       "1  0.166667  0.333333 -0.277778  0.000000\n",
       "2  0.333333 -0.083333  0.000000  0.000000\n",
       "3  0.250000  0.000000  0.000000  0.000000"
      ]
     },
     "execution_count": 4,
     "metadata": {},
     "output_type": "execute_result"
    }
   ],
   "source": [
    "df = pd.DataFrame(fs.T)\n",
    "df"
   ]
  },
  {
   "cell_type": "code",
   "execution_count": 5,
   "metadata": {},
   "outputs": [
    {
     "name": "stdout",
     "output_type": "stream",
     "text": [
      "o polinômio interpolador é: \n",
      "0.0x^0 + 0.3333333333333333x^1 + 0.0x^2 + -0.13888888888888887x^3\n"
     ]
    }
   ],
   "source": [
    "print(\"o polinômio interpolador é: \")\n",
    "for i in range(xi.shape[0]-1):\n",
    "    print(\"{}x^{} + \".format(fs[i][0], i), end=\"\")\n",
    "print(\"{}x^{}\".format(fs[xi.shape[0]-1][0], xi.shape[0]-1))\n"
   ]
  },
  {
   "cell_type": "code",
   "execution_count": 6,
   "metadata": {},
   "outputs": [
    {
     "data": {
      "image/png": "[encoded data removed]",
      "text/plain": [
       "<Figure size 432x288 with 1 Axes>"
      ]
     },
     "metadata": {
      "needs_background": "light"
     },
     "output_type": "display_data"
    }
   ],
   "source": [
    "plt.scatter(xi, yi)\n",
    "plt.plot()\n",
    "pol = fs[0]\n",
    "for i in range(1, xi.shape[0]):\n",
    "    pol += fs[i][0]*(xi**i)\n",
    "plt.plot(xi, pol)\n",
    "plt.grid()"
   ]
  },
  {
   "cell_type": "markdown",
   "metadata": {},
   "source": [
    "## Integração Numérica\n",
    "Cálculo de integrais definidas $\\int_{a}^{b} f(x) dx$"
   ]
  },
  {
   "cell_type": "code",
   "execution_count": 7,
   "metadata": {},
   "outputs": [],
   "source": [
    "def f(x):\n",
    "    return np.exp(-x)"
   ]
  },
  {
   "cell_type": "markdown",
   "metadata": {},
   "source": [
    "### Método dos Trapézios\n",
    "Aproximação $\\int_{x_i}^{x_{i+1}}f(x) dx \\approx \\frac{f(x_{i+1}) + f(x_{i})}{2}(x_{i+1}-x_{i})$\n",
    "\n",
    "\n",
    "Erro da forma $\\epsilon \\leq \\frac{|b-a|^{3}}{12n^2}max(f''(z)), z \\in [a, b]$"
   ]
  },
  {
   "cell_type": "code",
   "execution_count": 8,
   "metadata": {},
   "outputs": [],
   "source": [
    "def trap_min(a, b, thresh, max_second_derivative):\n",
    "    err = 1000000 #infinite\n",
    "    err_vec = []\n",
    "    n=0\n",
    "    init_time = time()\n",
    "    while (not err <= thresh) or (time() - init_time) >= 10:\n",
    "        n += 1\n",
    "        err = ((b-a)**3)/(12*(n**2))*max_second_derivative\n",
    "        err_vec.append(err)\n",
    "    plt.plot(err_vec)\n",
    "    plt.grid()\n",
    "    return n"
   ]
  },
  {
   "cell_type": "code",
   "execution_count": 9,
   "metadata": {},
   "outputs": [],
   "source": [
    "def trapezios(a, b, N):\n",
    "    h = (b-a)/N\n",
    "    s = 0\n",
    "    s += f(a)\n",
    "    s += f(b)\n",
    "    for i in range(1, N):\n",
    "        s += 2*f(a + i*h)\n",
    "    return (s*h)/2"
   ]
  },
  {
   "cell_type": "code",
   "execution_count": 10,
   "metadata": {},
   "outputs": [
    {
     "data": {
      "text/plain": [
       "25"
      ]
     },
     "execution_count": 10,
     "metadata": {},
     "output_type": "execute_result"
    },
    {
     "data": {
      "image/png": "[encoded data removed]",
      "text/plain": [
       "<Figure size 432x288 with 1 Axes>"
      ]
     },
     "metadata": {
      "needs_background": "light"
     },
     "output_type": "display_data"
    }
   ],
   "source": [
    "trap_min(0, 3, 0.01, np.e)"
   ]
  },
  {
   "cell_type": "code",
   "execution_count": 11,
   "metadata": {},
   "outputs": [
    {
     "data": {
      "text/plain": [
       "0.9513529135825631"
      ]
     },
     "execution_count": 11,
     "metadata": {},
     "output_type": "execute_result"
    }
   ],
   "source": [
    "trapezios(0, 3, 25)"
   ]
  },
  {
   "cell_type": "markdown",
   "metadata": {},
   "source": [
    "### Método de Simpson\n",
    "\n",
    "Aproximação $\\int_{x_i}^{x_{i+1}}f(x) dx \\approx \\int_{x_i}^{x_{i+1}}P_2(x) dx$, onde $P_2(x)$ é o polinômio interpolador de $f(x)$ nos pontos $[a, \\frac{a+b}{2}, b]$\n",
    "\n",
    "\n",
    "Erro da forma $\\epsilon \\leq \\frac{|b-a|^{5}}{2880n^4}max(f^{(4)}(x)), z \\in [a, b]$"
   ]
  },
  {
   "cell_type": "code",
   "execution_count": 12,
   "metadata": {},
   "outputs": [],
   "source": [
    "def simpson(a, b, N):\n",
    "    h = (b-a)/(2*N)\n",
    "    s = 0 \n",
    "    s += f(a)\n",
    "    s += f(b)\n",
    "    impar = True\n",
    "    for i in range(1, 2*N):\n",
    "        if impar: # not focusing on performance\n",
    "            s += 4*f(a + i*h)\n",
    "        else:\n",
    "            s += 2*f(a + i*h)\n",
    "        impar = not impar\n",
    "    return (s*h)/3"
   ]
  },
  {
   "cell_type": "code",
   "execution_count": 13,
   "metadata": {},
   "outputs": [
    {
     "data": {
      "text/plain": [
       "0.361191894359252"
      ]
     },
     "execution_count": 13,
     "metadata": {},
     "output_type": "execute_result"
    }
   ],
   "source": [
    "simpson(1, 5, 5)"
   ]
  },
  {
   "cell_type": "markdown",
   "metadata": {},
   "source": [
    "#### Método de Simpson a partir dos Trapézios\n",
    "$S(h) = \\frac{4T(h)-T(2h)}{3}$"
   ]
  },
  {
   "cell_type": "code",
   "execution_count": 14,
   "metadata": {},
   "outputs": [
    {
     "data": {
      "text/plain": [
       "0.6323336800036626"
      ]
     },
     "execution_count": 14,
     "metadata": {},
     "output_type": "execute_result"
    }
   ],
   "source": [
    "s = (4*trapezios(0, 1, 2) - trapezios(0, 1, 1))/3\n",
    "s"
   ]
  },
  {
   "cell_type": "code",
   "execution_count": 15,
   "metadata": {},
   "outputs": [
    {
     "data": {
      "text/plain": [
       "0.6321341753205322"
      ]
     },
     "execution_count": 15,
     "metadata": {},
     "output_type": "execute_result"
    }
   ],
   "source": [
    "s = (4*trapezios(0, 1, 4) - trapezios(0, 1, 2))/3\n",
    "s"
   ]
  },
  {
   "cell_type": "markdown",
   "metadata": {},
   "source": [
    "## Equações Diferenciais Ordinárias\n",
    "Inicialmente de primeira ordem, do tipo $\\dot{y} = f(x, t)$"
   ]
  },
  {
   "cell_type": "code",
   "execution_count": 16,
   "metadata": {},
   "outputs": [],
   "source": [
    "def y_dot(t, y):\n",
    "    return y"
   ]
  },
  {
   "cell_type": "markdown",
   "metadata": {},
   "source": [
    "### Método de Euler\n",
    "Aproximação da função pela poligonal dada pelas retas tangentes\n",
    "\n",
    "$y_{i+1} = y_i + h f(t_i, y_i)$\n",
    "\n",
    "O erro é majorado pela expressão $|y(t_i) - y_i| \\leq \\frac{hM}{2L}|e^{L(t_i-a)}-1|$"
   ]
  },
  {
   "cell_type": "code",
   "execution_count": 17,
   "metadata": {},
   "outputs": [],
   "source": [
    "def euler(y0, a, b, N):\n",
    "    ys = np.ndarray((N))\n",
    "    h = (b-a)/N \n",
    "    ys[0] = y0\n",
    "    for i in range(1, N):\n",
    "        t=i*h\n",
    "        ys[i] = ys[i-1] + h*y_dot(t, ys[i-1])\n",
    "    return ys"
   ]
  },
  {
   "cell_type": "code",
   "execution_count": 22,
   "metadata": {},
   "outputs": [],
   "source": [
    "solutions = euler(1, 0, 1, 100)"
   ]
  },
  {
   "cell_type": "code",
   "execution_count": 26,
   "metadata": {},
   "outputs": [
    {
     "data": {
      "text/plain": [
       "[<matplotlib.lines.Line2D at 0x7f43106cdcc0>]"
      ]
     },
     "execution_count": 26,
     "metadata": {},
     "output_type": "execute_result"
    },
    {
     "data": {
      "image/png": "[encoded data removed]",
      "text/plain": [
       "<Figure size 864x432 with 1 Axes>"
      ]
     },
     "metadata": {
      "needs_background": "light"
     },
     "output_type": "display_data"
    }
   ],
   "source": [
    "plt.figure(1, (12,6))\n",
    "plt.grid()\n",
    "plt.plot(solutions)"
   ]
  },
  {
   "cell_type": "markdown",
   "metadata": {},
   "source": [
    "### Método de Runge-Kutta de ordem 2\n",
    "$y_{i+1} = y_i + \\frac{h}{2}[f(t_i, y_i) + f(t_{i+1}, \\underbrace{y_i + hf(t_i,y_i))}_{y_{i+1} de Euler}]$\n",
    "\n",
    "O erro apresentado é de ordem $O(n^3)$"
   ]
  },
  {
   "cell_type": "code",
   "execution_count": 40,
   "metadata": {},
   "outputs": [],
   "source": [
    "def runge_kutte(y0, a, b, N):\n",
    "    ys = np.ndarray((N))\n",
    "    h = (b-a)/N \n",
    "    ys[0] = y0\n",
    "    for i in range(1, N):\n",
    "        t=i*h\n",
    "        ys[i] = ys[i-1] + (h/2)*(y_dot(t, ys[i-1]) + y_dot((i+1)*h, ys[i-1] + h*y_dot(t, ys[i-1]))) #only working for integers\n",
    "    return ys"
   ]
  },
  {
   "cell_type": "code",
   "execution_count": 41,
   "metadata": {},
   "outputs": [],
   "source": [
    "def runge_kutte_from_euler(y0, a, b, n, euler_sol):\n",
    "    ys = np.ndarray((n))\n",
    "    h = (b-a)/n \n",
    "    ys[0] = y0\n",
    "    for i in range(1, n):\n",
    "        t=i*h\n",
    "        ys[i] = ys[i-1] + (h/2)*(y_dot(t, ys[i-1]) + y_dot((i+1)*h, euler_sol[i])) #only working for integers\n",
    "    return ys"
   ]
  },
  {
   "cell_type": "code",
   "execution_count": 42,
   "metadata": {},
   "outputs": [
    {
     "data": {
      "text/plain": [
       "[<matplotlib.lines.Line2D at 0x7f43102d3ac8>]"
      ]
     },
     "execution_count": 42,
     "metadata": {},
     "output_type": "execute_result"
    },
    {
     "data": {
      "image/png": "[encoded data removed]",
      "text/plain": [
       "<Figure size 864x432 with 1 Axes>"
      ]
     },
     "metadata": {
      "needs_background": "light"
     },
     "output_type": "display_data"
    }
   ],
   "source": [
    "rk_solutions = runge_kutte(1, 0, 1, 100)\n",
    "rk_fe_solutions = runge_kutte_from_euler(1, 0, 1, 100, solutions)\n",
    "#they're both the same\n",
    "plt.figure(1, (12,6))\n",
    "plt.grid()\n",
    "#they're both the same\n",
    "plt.plot(rk_solutions)\n",
    "plt.plot(rk_fe_solutions)"
   ]
  },
  {
   "cell_type": "code",
   "execution_count": null,
   "metadata": {},
   "outputs": [],
   "source": []
  }
 ],
 "metadata": {
  "kernelspec": {
   "display_name": "Python 3",
   "language": "python",
   "name": "python3"
  },
  "language_info": {
   "codemirror_mode": {
    "name": "ipython",
    "version": 3
   },
   "file_extension": ".py",
   "mimetype": "text/x-python",
   "name": "python",
   "nbconvert_exporter": "python",
   "pygments_lexer": "ipython3",
   "version": "3.6.9"
  }
 },
 "nbformat": 4,
 "nbformat_minor": 4
}
