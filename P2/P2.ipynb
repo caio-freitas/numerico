{
 "cells": [
  {
   "cell_type": "code",
   "execution_count": 45,
   "metadata": {},
   "outputs": [],
   "source": [
    "import numpy as np\n",
    "import matplotlib.pyplot as plt\n",
    "import pandas as pd\n",
    "from time import time"
   ]
  },
  {
   "cell_type": "markdown",
   "metadata": {},
   "source": [
    "## Interpolação Polinomial\n",
    "Pela Forma de **Newton**"
   ]
  },
  {
   "cell_type": "code",
   "execution_count": 71,
   "metadata": {},
   "outputs": [],
   "source": [
    "xi = np.array([0, 1, 2, 3])\n",
    "yi = np.array([0, 2.337, 3.453, 3.925])"
   ]
  },
  {
   "cell_type": "code",
   "execution_count": 72,
   "metadata": {},
   "outputs": [
    {
     "name": "stdout",
     "output_type": "stream",
     "text": [
      "f[1][1] = (2.337 - 0.0)/(1 - 0)\n",
      "f[1][2] = (3.453 - 2.337)/(2 - 1)\n",
      "f[1][3] = (3.925 - 3.453)/(3 - 2)\n",
      "f[2][1] = (1.1159999999999997 - 2.337)/(1 - 0)\n",
      "f[2][2] = (0.472 - 1.1159999999999997)/(2 - 1)\n",
      "f[3][1] = (-0.32199999999999984 - -0.6105000000000003)/(1 - 0)\n"
     ]
    }
   ],
   "source": [
    "fs = np.zeros((xi.shape[0], xi.shape[0]))\n",
    "fs[0, :] = yi\n",
    "for i in range(1, xi.shape[0]):\n",
    "    for j in range(1, xi.shape[0]-i+1):\n",
    "        print(\"f[{}][{}] = ({} - {})/({} - {})\".format(i, j, fs[i-1][j], fs[i-1][j-1], xi[j], xi[j-1]))\n",
    "        fs[i][j-1] = (fs[i-1][j] - fs[i-1][j-1])/(xi[j+i-1] - xi[j-1])"
   ]
  },
  {
   "cell_type": "code",
   "execution_count": 73,
   "metadata": {},
   "outputs": [
    {
     "data": {
      "text/html": [
       "<div>\n",
       "<style scoped>\n",
       "    .dataframe tbody tr th:only-of-type {\n",
       "        vertical-align: middle;\n",
       "    }\n",
       "\n",
       "    .dataframe tbody tr th {\n",
       "        vertical-align: top;\n",
       "    }\n",
       "\n",
       "    .dataframe thead th {\n",
       "        text-align: right;\n",
       "    }\n",
       "</style>\n",
       "<table border=\"1\" class=\"dataframe\">\n",
       "  <thead>\n",
       "    <tr style=\"text-align: right;\">\n",
       "      <th></th>\n",
       "      <th>0</th>\n",
       "      <th>1</th>\n",
       "      <th>2</th>\n",
       "      <th>3</th>\n",
       "    </tr>\n",
       "  </thead>\n",
       "  <tbody>\n",
       "    <tr>\n",
       "      <th>0</th>\n",
       "      <td>0.000</td>\n",
       "      <td>2.337</td>\n",
       "      <td>-0.6105</td>\n",
       "      <td>0.096167</td>\n",
       "    </tr>\n",
       "    <tr>\n",
       "      <th>1</th>\n",
       "      <td>2.337</td>\n",
       "      <td>1.116</td>\n",
       "      <td>-0.3220</td>\n",
       "      <td>0.000000</td>\n",
       "    </tr>\n",
       "    <tr>\n",
       "      <th>2</th>\n",
       "      <td>3.453</td>\n",
       "      <td>0.472</td>\n",
       "      <td>0.0000</td>\n",
       "      <td>0.000000</td>\n",
       "    </tr>\n",
       "    <tr>\n",
       "      <th>3</th>\n",
       "      <td>3.925</td>\n",
       "      <td>0.000</td>\n",
       "      <td>0.0000</td>\n",
       "      <td>0.000000</td>\n",
       "    </tr>\n",
       "  </tbody>\n",
       "</table>\n",
       "</div>"
      ],
      "text/plain": [
       "       0      1       2         3\n",
       "0  0.000  2.337 -0.6105  0.096167\n",
       "1  2.337  1.116 -0.3220  0.000000\n",
       "2  3.453  0.472  0.0000  0.000000\n",
       "3  3.925  0.000  0.0000  0.000000"
      ]
     },
     "execution_count": 73,
     "metadata": {},
     "output_type": "execute_result"
    }
   ],
   "source": [
    "df = pd.DataFrame(fs.T)\n",
    "df"
   ]
  },
  {
   "cell_type": "code",
   "execution_count": 79,
   "metadata": {},
   "outputs": [
    {
     "name": "stdout",
     "output_type": "stream",
     "text": [
      "o polinômio interpolador é: \n",
      "0.0x^0 + 2.337x^1 + -0.6105000000000003x^2 + 0.0961666666666668x^3\n"
     ]
    }
   ],
   "source": [
    "print(\"o polinômio interpolador é: \")\n",
    "for i in range(xi.shape[0]-1):\n",
    "    print(\"{}x^{} + \".format(fs[i][0], i), end=\"\")\n",
    "print(\"{}x^{}\".format(fs[xi.shape[0]-1][0], xi.shape[0]-1))\n"
   ]
  },
  {
   "cell_type": "code",
   "execution_count": 75,
   "metadata": {},
   "outputs": [
    {
     "data": {
      "image/png": "[encoded data removed]",
      "text/plain": [
       "<Figure size 432x288 with 1 Axes>"
      ]
     },
     "metadata": {
      "needs_background": "light"
     },
     "output_type": "display_data"
    }
   ],
   "source": [
    "plt.scatter(xi, yi)\n",
    "plt.plot()\n",
    "pol = fs[0]\n",
    "for i in range(1, xi.shape[0]):\n",
    "    pol += fs[i][0]*(xi**i)\n",
    "plt.plot(xi, pol)\n",
    "plt.grid()"
   ]
  },
  {
   "cell_type": "markdown",
   "metadata": {},
   "source": [
    "## Integração Numérica\n",
    "Cálculo de integrais definidas $\\int_{a}^{b} f(x) dx$"
   ]
  },
  {
   "cell_type": "code",
   "execution_count": 32,
   "metadata": {},
   "outputs": [],
   "source": [
    "def f(x):\n",
    "    return np.exp(np.cos(x))"
   ]
  },
  {
   "cell_type": "markdown",
   "metadata": {},
   "source": [
    "### Método dos Trapézios\n",
    "Aproximação $\\int_{x_i}^{x_{i+1}}f(x) dx \\approx \\frac{f(x_{i+1}) + f(x_{i})}{2}(x_{i+1}-x_{i})$\n",
    "\n",
    "\n",
    "Erro da forma $\\epsilon \\leq \\frac{|b-a|^{3}}{12n^2}max(f''(z)), z \\in [a, b]$"
   ]
  },
  {
   "cell_type": "code",
   "execution_count": 65,
   "metadata": {},
   "outputs": [],
   "source": [
    "def trap_min(a, b, thresh, max_second_derivative):\n",
    "    err = 1000000 #infinite\n",
    "    err_vec = []\n",
    "    n=0\n",
    "    init_time = time()\n",
    "    while (not err <= thresh) or (time() - init_time) >= 10:\n",
    "        n += 1\n",
    "        err = ((b-a)**3)/(12*(n**2))*max_second_derivative\n",
    "        err_vec.append(err)\n",
    "    plt.plot(err_vec)\n",
    "    plt.grid()\n",
    "    return n"
   ]
  },
  {
   "cell_type": "code",
   "execution_count": 66,
   "metadata": {},
   "outputs": [],
   "source": [
    "def trapezios(a, b, N):\n",
    "    h = (b-a)/N\n",
    "    s = 0\n",
    "    s += f(a)\n",
    "    s += f(b)\n",
    "    for i in range(1, N):\n",
    "        s += 2*f(a + i*h)\n",
    "    return (s*h)/2"
   ]
  },
  {
   "cell_type": "code",
   "execution_count": 68,
   "metadata": {},
   "outputs": [
    {
     "data": {
      "text/plain": [
       "25"
      ]
     },
     "execution_count": 68,
     "metadata": {},
     "output_type": "execute_result"
    },
    {
     "data": {
      "image/png": "[encoded data removed]",
      "text/plain": [
       "<Figure size 432x288 with 1 Axes>"
      ]
     },
     "metadata": {
      "needs_background": "light"
     },
     "output_type": "display_data"
    }
   ],
   "source": [
    "trap_min(0, 3, 0.01, np.e)"
   ]
  },
  {
   "cell_type": "code",
   "execution_count": 70,
   "metadata": {},
   "outputs": [
    {
     "data": {
      "text/plain": [
       "3.925136939526657"
      ]
     },
     "execution_count": 70,
     "metadata": {},
     "output_type": "execute_result"
    }
   ],
   "source": [
    "trapezios(0, 3, 25)"
   ]
  },
  {
   "cell_type": "markdown",
   "metadata": {},
   "source": [
    "### Método de Simpson\n",
    "\n",
    "Aproximação $\\int_{x_i}^{x_{i+1}}f(x) dx \\approx \\int_{x_i}^{x_{i+1}}P_2(x) dx$, onde $P_2(x)$ é o polinômio interpolador de $f(x)$ nos pontos $[a, \\frac{a+b}{2}, b]$\n",
    "\n",
    "\n",
    "Erro da forma $\\epsilon \\leq \\frac{|b-a|^{5}}{2880n^4}max(f^{(4)}(x)), z \\in [a, b]$"
   ]
  },
  {
   "cell_type": "code",
   "execution_count": 22,
   "metadata": {},
   "outputs": [],
   "source": [
    "def simpson(a, b, N):\n",
    "    h = (b-a)/(2*N)\n",
    "    s = 0 \n",
    "    s += f(a)\n",
    "    s += f(b)\n",
    "    impar = True\n",
    "    for i in range(1, 2*N):\n",
    "        if impar: # not focusing on performance\n",
    "            s += 4*f(a + i*h)\n",
    "        else:\n",
    "            s += 2*f(a + i*h)\n",
    "        impar = not impar\n",
    "    return (s*h)/3"
   ]
  },
  {
   "cell_type": "code",
   "execution_count": 24,
   "metadata": {},
   "outputs": [
    {
     "data": {
      "text/plain": [
       "4.0469534759520025"
      ]
     },
     "execution_count": 24,
     "metadata": {},
     "output_type": "execute_result"
    }
   ],
   "source": [
    "simpson(1, 5, 5)"
   ]
  },
  {
   "cell_type": "code",
   "execution_count": null,
   "metadata": {},
   "outputs": [],
   "source": []
  }
 ],
 "metadata": {
  "kernelspec": {
   "display_name": "Python 3",
   "language": "python",
   "name": "python3"
  },
  "language_info": {
   "codemirror_mode": {
    "name": "ipython",
    "version": 3
   },
   "file_extension": ".py",
   "mimetype": "text/x-python",
   "name": "python",
   "nbconvert_exporter": "python",
   "pygments_lexer": "ipython3",
   "version": "3.6.9"
  }
 },
 "nbformat": 4,
 "nbformat_minor": 4
}
