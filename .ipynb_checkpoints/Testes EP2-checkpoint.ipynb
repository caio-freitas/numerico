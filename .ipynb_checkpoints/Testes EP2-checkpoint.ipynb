{
 "cells": [
  {
   "cell_type": "code",
   "execution_count": 71,
   "metadata": {},
   "outputs": [],
   "source": [
    "import numpy as np\n",
    "import matplotlib.pyplot as plt"
   ]
  },
  {
   "cell_type": "code",
   "execution_count": 118,
   "metadata": {},
   "outputs": [],
   "source": [
    "'''\n",
    "Resolução de um sistema Ax = b, onde A pode ser:\n",
    "- \"lower\": triangular inferior\n",
    "- \"upper\": triangular superior\n",
    "- \"diagonal\": diagonal\n",
    "'''\n",
    "def solve(A, b, m_type):\n",
    "    if A.shape[0] != A.shape[1]:\n",
    "        print(\"Erro, matriz nao quadrada!\")\n",
    "        return -1\n",
    "    solution = np.zeros((A.shape[0]))\n",
    "    if m_type == \"lower\":\n",
    "        solution[0] = b[0]/A[0][0]\n",
    "        print(\"solution[{}] = {}\".format(0, solution[0]))\n",
    "        for i in range(1, A.shape[0]):\n",
    "            summ = 0\n",
    "            for j in range(1, i + 1):\n",
    "                summ += A[i][i-j]*solution[i-j]\n",
    "            solution[i] = (b[i] - summ)\n",
    "            print(\"solution[{}] = {}\".format(i, solution[i]))\n",
    "        return solution\n",
    "\n",
    "    elif m_type == \"upper\":\n",
    "        solution[A.shape[0] - 1] = b[A.shape[0]-1]/A[A.shape[0] - 1][A.shape[0] - 1]\n",
    "        print(\"solution[{}] = {}\".format(A.shape[0]-1, solution[A.shape[0]-1]))\n",
    "        for i in range(2, A.shape[0]+1):\n",
    "            j = A.shape[0] - i\n",
    "            summ = 0\n",
    "            for k in range(1, i):\n",
    "                summ += A[j][j+k]*solution[j+k]\n",
    "            solution[j] = (b[j] - summ)\n",
    "            print(\"solution[{}] = {}\".format(j, solution[j]))\n",
    "        return solution\n",
    "\n",
    "    elif m_type == \"diagonal\":\n",
    "        print(\"solution[{}] = {}\".format(0, solution[0]))\n",
    "        for i in range(A.shape[0]):\n",
    "            solution[i] = b[i]/A[i][i]\n",
    "            print(\"solution[{}] = {}\".format(i, solution[i]))\n",
    "        return solution\n",
    "\n",
    "'''\n",
    "Decomposição LDLt de uma matriz A genérica\n",
    "'''\n",
    "\n",
    "def decomposeLDLt(A):\n",
    "    L = np.diag(np.ones(len(A)))\n",
    "    D = np.diag(np.ones(len(A)))\n",
    "    v = np.ones(len(A))\n",
    "    for i in range(len(A)):\n",
    "        for j in range(i):\n",
    "            v[j] = L[i][j]*D[j][j]\n",
    "        summ = 0\n",
    "        for k in range(i):\n",
    "            summ += L[i][k]*v[k]\n",
    "        D[i][i] = A[i][i] - summ\n",
    "        \n",
    "        \n",
    "        for j in range(i+1, len(A)):\n",
    "            summ = 0\n",
    "            for k in range(i):\n",
    "                summ += L[j][k]*v[k]\n",
    "            L[j][i] = (A[j][i] - summ)/D[i][i]\n",
    "    return L, D"
   ]
  },
  {
   "cell_type": "code",
   "execution_count": 119,
   "metadata": {},
   "outputs": [
    {
     "data": {
      "text/plain": [
       "(array([[ 1.        ,  0.        ,  0.        ,  0.        ],\n",
       "        [ 0.6       ,  1.        ,  0.        ,  0.        ],\n",
       "        [ 1.2       , -0.14285714,  1.        ,  0.        ],\n",
       "        [ 1.2       , -0.14285714,  1.        ,  1.        ]]),\n",
       " array([[ 5.        ,  0.        ,  0.        ,  0.        ],\n",
       "        [ 0.        ,  4.2       ,  0.        ,  0.        ],\n",
       "        [ 0.        ,  0.        , -5.28571429,  0.        ],\n",
       "        [ 0.        ,  0.        ,  0.        ,  7.        ]]))"
      ]
     },
     "execution_count": 119,
     "metadata": {},
     "output_type": "execute_result"
    }
   ],
   "source": [
    "A = np.array([[5, 3, 6, 6],\n",
    "              [3, 6, 3, 3],\n",
    "              [6, 3, 2, 2],\n",
    "              [6, 3, 2, 9]])\n",
    "decomposeLDLt(A)"
   ]
  },
  {
   "cell_type": "code",
   "execution_count": 120,
   "metadata": {},
   "outputs": [],
   "source": [
    "b = np.array([[1],\n",
    "              [2],\n",
    "              [3],\n",
    "              [4]])"
   ]
  },
  {
   "cell_type": "code",
   "execution_count": 121,
   "metadata": {},
   "outputs": [],
   "source": [
    "L, D = decomposeLDLt(A)"
   ]
  },
  {
   "cell_type": "markdown",
   "metadata": {},
   "source": [
    "$LDL^T = b => DL^T = L^{-1}b$"
   ]
  },
  {
   "cell_type": "code",
   "execution_count": 122,
   "metadata": {},
   "outputs": [
    {
     "name": "stdout",
     "output_type": "stream",
     "text": [
      "[[ 1.          0.          0.          0.        ]\n",
      " [ 0.6         1.          0.          0.        ]\n",
      " [ 1.2        -0.14285714  1.          0.        ]\n",
      " [ 1.2        -0.14285714  1.          1.        ]]\n",
      "[[1]\n",
      " [2]\n",
      " [3]\n",
      " [4]]\n",
      "solution[0] = 1.0\n",
      "solution[1] = 1.4\n",
      "solution[2] = 2.0\n",
      "solution[3] = 1.0\n"
     ]
    }
   ],
   "source": [
    "print(L)\n",
    "print(b)\n",
    "y = solve(L, b, \"lower\")"
   ]
  },
  {
   "cell_type": "code",
   "execution_count": 123,
   "metadata": {},
   "outputs": [
    {
     "name": "stdout",
     "output_type": "stream",
     "text": [
      "solution[0] = 0.0\n",
      "solution[0] = 0.2\n",
      "solution[1] = 0.3333333333333333\n",
      "solution[2] = -0.37837837837837845\n",
      "solution[3] = 0.14285714285714285\n"
     ]
    }
   ],
   "source": [
    "z = solve(D, y, \"diagonal\")"
   ]
  },
  {
   "cell_type": "code",
   "execution_count": 124,
   "metadata": {},
   "outputs": [
    {
     "name": "stdout",
     "output_type": "stream",
     "text": [
      "[[ 1.          0.6         1.2         1.2       ]\n",
      " [ 0.          1.         -0.14285714 -0.14285714]\n",
      " [ 0.          0.          1.          1.        ]\n",
      " [ 0.          0.          0.          1.        ]]\n",
      "[ 0.2         0.33333333 -0.37837838  0.14285714]\n",
      "solution[3] = 0.14285714285714285\n",
      "solution[2] = -0.5212355212355213\n",
      "solution[1] = 0.2792792792792793\n",
      "solution[0] = 0.48648648648648657\n"
     ]
    }
   ],
   "source": [
    "print(L.T)\n",
    "print(z)\n",
    "a = solve(L.T, z, \"upper\")"
   ]
  },
  {
   "cell_type": "code",
   "execution_count": null,
   "metadata": {},
   "outputs": [],
   "source": []
  },
  {
   "cell_type": "code",
   "execution_count": 125,
   "metadata": {},
   "outputs": [
    {
     "name": "stdout",
     "output_type": "stream",
     "text": [
      "solution[0] = 1.0\n",
      "solution[1] = 1.4\n",
      "solution[2] = 2.0\n",
      "solution[3] = 1.0\n",
      "solution[0] = 0.0\n",
      "solution[0] = 0.2\n",
      "solution[1] = 0.3333333333333333\n",
      "solution[2] = -0.37837837837837845\n",
      "solution[3] = 0.14285714285714285\n",
      "solution[3] = 0.14285714285714285\n",
      "solution[2] = -0.5212355212355213\n",
      "solution[1] = 0.2792792792792793\n",
      "solution[0] = 0.48648648648648657\n"
     ]
    }
   ],
   "source": [
    "y = solve(L, b, \"lower\")\n",
    "z = solve(D, y, \"diagonal\")\n",
    "a = solve(L.T, z, \"upper\")"
   ]
  },
  {
   "cell_type": "code",
   "execution_count": 126,
   "metadata": {},
   "outputs": [
    {
     "name": "stdout",
     "output_type": "stream",
     "text": [
      "[ 0.48648649  0.27927928 -0.52123552  0.14285714]\n"
     ]
    }
   ],
   "source": [
    "print(a)"
   ]
  },
  {
   "cell_type": "code",
   "execution_count": 127,
   "metadata": {},
   "outputs": [
    {
     "name": "stdout",
     "output_type": "stream",
     "text": [
      "[[ 0.48648649]\n",
      " [ 0.27927928]\n",
      " [-0.52123552]\n",
      " [ 0.14285714]]\n"
     ]
    }
   ],
   "source": [
    "a = np.linalg.inv(A).dot(b)\n",
    "print(a)"
   ]
  },
  {
   "cell_type": "code",
   "execution_count": 68,
   "metadata": {},
   "outputs": [
    {
     "data": {
      "text/plain": [
       "array([[5., 3., 6., 6.],\n",
       "       [3., 6., 3., 3.],\n",
       "       [6., 3., 2., 2.],\n",
       "       [6., 3., 2., 9.]])"
      ]
     },
     "execution_count": 68,
     "metadata": {},
     "output_type": "execute_result"
    }
   ],
   "source": [
    "L.dot(D.dot(L.T))"
   ]
  },
  {
   "cell_type": "code",
   "execution_count": 102,
   "metadata": {},
   "outputs": [],
   "source": [
    "import time\n",
    "\n",
    "def burdens(A):\n",
    "    L = np.diag(np.ones(len(A)))\n",
    "    D = np.diag(np.ones(len(A)))\n",
    "    v = np.ones(len(A))\n",
    "    for i in range(len(A)):\n",
    "        for j in range(i):\n",
    "            print(\"v[{}] = L[{}][{}] * D[{}]\".format(j, i, j, j, L[i][j],D[j][j]))\n",
    "            print(\"v[{}] = {} * {}\".format(j, L[i][j],D[j][j]))\n",
    "            time.sleep(1)\n",
    "            v[j] = L[i][j]*D[j][j]\n",
    "        summ = 0\n",
    "        for k in range(i):\n",
    "            summ += L[i][k]*v[k]\n",
    "        D[i][i] = A[i][i] - summ\n",
    "        \n",
    "        \n",
    "        for j in range(i+1, len(A)):\n",
    "            summ = 0\n",
    "            for k in range(i):\n",
    "                summ += L[j][k]*v[k]\n",
    "            L[j][i] = (A[j][i] - summ)/D[i][i]\n",
    "    return L, D"
   ]
  },
  {
   "cell_type": "code",
   "execution_count": 103,
   "metadata": {},
   "outputs": [
    {
     "name": "stdout",
     "output_type": "stream",
     "text": [
      "v[0] = L[1][0] * D[0]\n",
      "v[0] = 0.8 * 5.0\n",
      "v[0] = L[2][0] * D[0]\n",
      "v[0] = 0.6 * 5.0\n",
      "v[1] = L[2][1] * D[1]\n",
      "v[1] = 0.21428571428571433 * 2.8\n",
      "v[0] = L[3][0] * D[0]\n",
      "v[0] = 0.4 * 5.0\n",
      "v[1] = L[3][1] * D[1]\n",
      "v[1] = -0.21428571428571433 * 2.8\n",
      "v[2] = L[3][2] * D[2]\n",
      "v[2] = -14.999999999999963 * 0.07142857142857162\n"
     ]
    }
   ],
   "source": [
    "A = np.array([[5, 4, 3, 2],\n",
    "              [4, 6, 3, 1],\n",
    "              [3, 3, 2, 0],\n",
    "              [2, 1, 0, 9]])\n",
    "L, D = burdens(A)"
   ]
  },
  {
   "cell_type": "code",
   "execution_count": 112,
   "metadata": {},
   "outputs": [
    {
     "data": {
      "text/plain": [
       "array([[ 0.00000000e+00,  0.00000000e+00,  0.00000000e+00,\n",
       "         0.00000000e+00],\n",
       "       [ 0.00000000e+00,  0.00000000e+00,  4.44089210e-16,\n",
       "         0.00000000e+00],\n",
       "       [ 0.00000000e+00,  0.00000000e+00,  0.00000000e+00,\n",
       "        -2.22044605e-16],\n",
       "       [ 0.00000000e+00,  0.00000000e+00,  7.09974815e-30,\n",
       "         3.55271368e-15]])"
      ]
     },
     "execution_count": 112,
     "metadata": {},
     "output_type": "execute_result"
    }
   ],
   "source": [
    "L.dot(D.dot(L.T)) - A"
   ]
  }
 ],
 "metadata": {
  "kernelspec": {
   "display_name": "Python 3",
   "language": "python",
   "name": "python3"
  },
  "language_info": {
   "codemirror_mode": {
    "name": "ipython",
    "version": 3
   },
   "file_extension": ".py",
   "mimetype": "text/x-python",
   "name": "python",
   "nbconvert_exporter": "python",
   "pygments_lexer": "ipython3",
   "version": "3.6.9"
  }
 },
 "nbformat": 4,
 "nbformat_minor": 4
}
