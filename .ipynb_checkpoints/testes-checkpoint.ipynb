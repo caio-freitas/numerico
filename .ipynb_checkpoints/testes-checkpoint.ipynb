{
 "cells": [
  {
   "cell_type": "code",
   "execution_count": 1,
   "metadata": {},
   "outputs": [],
   "source": [
    "import numpy as np"
   ]
  },
  {
   "cell_type": "code",
   "execution_count": 2,
   "metadata": {},
   "outputs": [
    {
     "name": "stdout",
     "output_type": "stream",
     "text": [
      "[[1. 0. 0. 0. 0.]\n",
      " [0. 1. 0. 0. 0.]\n",
      " [0. 0. 1. 0. 0.]\n",
      " [0. 0. 0. 1. 0.]\n",
      " [0. 0. 0. 0. 1.]]\n"
     ]
    }
   ],
   "source": [
    "M = 5\n",
    "N = 5\n",
    "L = np.zeros((int(M), int(N)), dtype='float64')\n",
    "U = np.zeros((int(M), int(N)), dtype='float64')\n",
    "ones = np.ones((int(N)))\n",
    "U = np.diag(ones)\n",
    "\n",
    "L = U\n",
    "print(L)"
   ]
  },
  {
   "cell_type": "code",
   "execution_count": 3,
   "metadata": {},
   "outputs": [],
   "source": [
    "def decompose_lu(A):\n",
    "    N = A.shape[0]\n",
    "    ones = np.ones(A.shape[0])\n",
    "    U = np.diag(ones)\n",
    "    L = U\n",
    "    \n",
    "    for j in range(1, N):\n",
    "        U[0][j] = A[1][j]/L[1][1]\n",
    "        L[j][0] = A[j][1]/U[1][1]\n",
    "    #print(U)\n",
    "    for i in range(1, N-1):\n",
    "        for j in range(1, N):\n",
    "            aux = 0\n",
    "            for k in range(i-1):\n",
    "                aux += L[i][k]*U[k][i]\n",
    "            U[i][j] = (1/L[i][i])/(A[i][j] - aux)\n",
    "            \n",
    "            for k in range(i-1):\n",
    "                aux += L[k][i]*U[i][k]\n",
    "            L[j][i] = (1/U[i][i])/(A[j][i] - aux)\n",
    "    return L, U"
   ]
  },
  {
   "cell_type": "code",
   "execution_count": 4,
   "metadata": {},
   "outputs": [
    {
     "name": "stdout",
     "output_type": "stream",
     "text": [
      "[[2. 0. 0. 0. 0.]\n",
      " [2. 6. 0. 0. 0.]\n",
      " [6. 4. 8. 0. 0.]\n",
      " [4. 7. 2. 5. 0.]\n",
      " [3. 6. 2. 4. 6.]]\n",
      "[[2. 2. 3. 4. 0.]\n",
      " [0. 6. 5. 6. 3.]\n",
      " [0. 0. 8. 2. 4.]\n",
      " [0. 0. 0. 5. 3.]\n",
      " [0. 0. 0. 0. 9.]]\n",
      "[[  4.   4.   6.   8.   0.]\n",
      " [  4.  40.  36.  44.  18.]\n",
      " [ 12.  36. 102.  64.  44.]\n",
      " [  8.  50.  63.  87.  44.]\n",
      " [  6.  42.  55.  72.  92.]]\n"
     ]
    },
    {
     "ename": "NameError",
     "evalue": "name 'decompose_lu' is not defined",
     "output_type": "error",
     "traceback": [
      "\u001b[0;31m---------------------------------------------------------------------------\u001b[0m",
      "\u001b[0;31mNameError\u001b[0m                                 Traceback (most recent call last)",
      "\u001b[0;32m<ipython-input-4-1510640fcddc>\u001b[0m in \u001b[0;36m<module>\u001b[0;34m\u001b[0m\n\u001b[1;32m      7\u001b[0m \u001b[0mA\u001b[0m \u001b[0;34m=\u001b[0m \u001b[0mnp\u001b[0m\u001b[0;34m.\u001b[0m\u001b[0mdot\u001b[0m\u001b[0;34m(\u001b[0m\u001b[0mLp\u001b[0m\u001b[0;34m,\u001b[0m \u001b[0mUp\u001b[0m\u001b[0;34m)\u001b[0m\u001b[0;34m\u001b[0m\u001b[0;34m\u001b[0m\u001b[0m\n\u001b[1;32m      8\u001b[0m \u001b[0mprint\u001b[0m\u001b[0;34m(\u001b[0m\u001b[0mA\u001b[0m\u001b[0;34m)\u001b[0m\u001b[0;34m\u001b[0m\u001b[0;34m\u001b[0m\u001b[0m\n\u001b[0;32m----> 9\u001b[0;31m \u001b[0ml\u001b[0m\u001b[0;34m,\u001b[0m \u001b[0mu\u001b[0m \u001b[0;34m=\u001b[0m \u001b[0mdecompose_lu\u001b[0m\u001b[0;34m(\u001b[0m\u001b[0mA\u001b[0m\u001b[0;34m)\u001b[0m\u001b[0;34m\u001b[0m\u001b[0;34m\u001b[0m\u001b[0m\n\u001b[0m\u001b[1;32m     10\u001b[0m \u001b[0mprint\u001b[0m\u001b[0;34m(\u001b[0m\u001b[0ml\u001b[0m\u001b[0;34m)\u001b[0m\u001b[0;34m\u001b[0m\u001b[0;34m\u001b[0m\u001b[0m\n",
      "\u001b[0;31mNameError\u001b[0m: name 'decompose_lu' is not defined"
     ]
    }
   ],
   "source": [
    "Lp = np.array(([[2, 0, 0, 0, 0], [2, 6, 0, 0, 0], [6, 4, 8, 0, 0], [4, 7, 2 , 5, 0], [3, 6, 2, 4, 6]]), dtype=\"float32\")\n",
    "Up = np.array(([[2, 2, 3, 4, 0], [0, 6, 5, 6, 3], [0, 0, 8, 2, 4], [0, 0, 0, 5, 3], [0, 0, 0, 0, 9]]), dtype=\"float32\")\n",
    "\n",
    "\n",
    "print(Lp)\n",
    "print(Up)\n",
    "A = np.dot(Lp, Up)\n",
    "print(A)\n",
    "l, u = decompose_lu(A)\n",
    "print(l)"
   ]
  },
  {
   "cell_type": "code",
   "execution_count": 5,
   "metadata": {},
   "outputs": [],
   "source": [
    "def cholesky(A):\n",
    "    L = np.zeros_like(A)\n",
    "    D = np.zeros_like(A)\n",
    "    n = len(L)\n",
    "    for i in range(n):\n",
    "        for j in range(i+1):\n",
    "            if i==j:\n",
    "                val = A[i,i] - np.sum(np.square(L[i,:i]))\n",
    "                if val<0:\n",
    "                    return 0.0\n",
    "                L[i,i] = np.sqrt(val)\n",
    "            else:\n",
    "                L[i,j] = (A[i,j] - np.sum(L[i,:j]*L[j,:j]))/L[j,j]\n",
    "#         D[i, i] = A[i, i]\n",
    "#     for i in range(L.shape[0]):\n",
    "#         for j in range(L.shape[1]):\n",
    "#             L[i, j] /= D[i, i]\n",
    "        \n",
    "    return L, D"
   ]
  },
  {
   "cell_type": "code",
   "execution_count": 6,
   "metadata": {},
   "outputs": [],
   "source": [
    "L, D = cholesky(A)\n"
   ]
  },
  {
   "cell_type": "code",
   "execution_count": 7,
   "metadata": {},
   "outputs": [
    {
     "data": {
      "text/plain": [
       "array([[0.5       , 0.        , 0.        , 0.        , 0.        ],\n",
       "       [0.05      , 0.15      , 0.        , 0.        , 0.        ],\n",
       "       [0.05882353, 0.03921569, 0.0693242 , 0.        , 0.        ],\n",
       "       [0.04597701, 0.08045977, 0.01788086, 0.05086126, 0.        ],\n",
       "       [0.0326087 , 0.06521739, 0.01998345, 0.03719047, 0.06140408]],\n",
       "      dtype=float32)"
      ]
     },
     "execution_count": 7,
     "metadata": {},
     "output_type": "execute_result"
    }
   ],
   "source": [
    "L"
   ]
  },
  {
   "cell_type": "code",
   "execution_count": 8,
   "metadata": {},
   "outputs": [
    {
     "data": {
      "text/plain": [
       "array([[1.        , 0.1       , 0.11764706, 0.09195402, 0.06521739],\n",
       "       [0.1       , 0.91      , 0.24705884, 0.49195403, 0.39782608],\n",
       "       [0.11764706, 0.24705884, 0.5655517 , 0.26346633, 0.25127876],\n",
       "       [0.09195402, 0.49195406, 0.26346633, 0.52507603, 0.41690403],\n",
       "       [0.06521739, 0.39782608, 0.2512788 , 0.41690403, 0.68233293]],\n",
       "      dtype=float32)"
      ]
     },
     "execution_count": 8,
     "metadata": {},
     "output_type": "execute_result"
    }
   ],
   "source": [
    "aux = np.dot(L, D)\n",
    "np.dot(aux, np.transpose(L))"
   ]
  },
  {
   "cell_type": "code",
   "execution_count": 9,
   "metadata": {},
   "outputs": [
    {
     "data": {
      "text/plain": [
       "array([[0.25      , 0.025     , 0.02941176, 0.02298851, 0.01630435],\n",
       "       [0.025     , 0.025     , 0.00882353, 0.01436782, 0.01141304],\n",
       "       [0.02941176, 0.00882353, 0.00980392, 0.00709939, 0.00586104],\n",
       "       [0.02298851, 0.01436782, 0.00709939, 0.01149425, 0.0089955 ],\n",
       "       [0.01630435, 0.01141304, 0.00586104, 0.0089955 , 0.01086957]],\n",
       "      dtype=float32)"
      ]
     },
     "execution_count": 9,
     "metadata": {},
     "output_type": "execute_result"
    }
   ],
   "source": [
    "np.dot(L, np.transpose(L))"
   ]
  },
  {
   "cell_type": "code",
   "execution_count": null,
   "metadata": {},
   "outputs": [],
   "source": []
  }
 ],
 "metadata": {
  "kernelspec": {
   "display_name": "Python 3",
   "language": "python",
   "name": "python3"
  },
  "language_info": {
   "codemirror_mode": {
    "name": "ipython",
    "version": 3
   },
   "file_extension": ".py",
   "mimetype": "text/x-python",
   "name": "python",
   "nbconvert_exporter": "python",
   "pygments_lexer": "ipython3",
   "version": "3.6.9"
  }
 },
 "nbformat": 4,
 "nbformat_minor": 4
}
