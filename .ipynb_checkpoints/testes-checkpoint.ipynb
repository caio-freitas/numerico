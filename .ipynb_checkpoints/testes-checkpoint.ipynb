{
 "cells": [
  {
   "cell_type": "code",
   "execution_count": 1,
   "metadata": {},
   "outputs": [],
   "source": [
    "import numpy as np"
   ]
  },
  {
   "cell_type": "code",
   "execution_count": 2,
   "metadata": {},
   "outputs": [
    {
     "name": "stdout",
     "output_type": "stream",
     "text": [
      "[[1. 0. 0. 0. 0.]\n",
      " [0. 1. 0. 0. 0.]\n",
      " [0. 0. 1. 0. 0.]\n",
      " [0. 0. 0. 1. 0.]\n",
      " [0. 0. 0. 0. 1.]]\n"
     ]
    }
   ],
   "source": [
    "M = 5\n",
    "N = 5\n",
    "L = np.zeros((int(M), int(N)), dtype='float64')\n",
    "U = np.zeros((int(M), int(N)), dtype='float64')\n",
    "ones = np.ones((int(N)))\n",
    "U = np.diag(ones)\n",
    "\n",
    "L = U\n",
    "print(L)"
   ]
  },
  {
   "cell_type": "code",
   "execution_count": 14,
   "metadata": {},
   "outputs": [],
   "source": [
    "def decompose_lu(A):\n",
    "    N = A.shape[0]\n",
    "    ones = np.ones(A.shape[0])\n",
    "    U = np.diag(ones)\n",
    "    L = U\n",
    "    \n",
    "    for j in range(1, N):\n",
    "        U[0][j] = A[1][j]/L[1][1]\n",
    "        L[j][0] = A[j][1]/U[1][1]\n",
    "    #print(U)\n",
    "    for i in range(1, N-1):\n",
    "        for j in range(1, N):\n",
    "            aux = 0\n",
    "            for k in range(i-1):\n",
    "                aux += L[i][k]*U[k][i]\n",
    "            U[i][j] = (1/L[i][i])/(A[i][j] - aux)\n",
    "            \n",
    "            for k in range(i-1):\n",
    "                aux += L[k][i]*U[i][k]\n",
    "            L[j][i] = (1/U[i][i])/(A[j][i] - aux)\n",
    "    return L, U"
   ]
  },
  {
   "cell_type": "code",
   "execution_count": 15,
   "metadata": {},
   "outputs": [
    {
     "name": "stdout",
     "output_type": "stream",
     "text": [
      "[[2. 0. 0. 0. 0.]\n",
      " [2. 6. 0. 0. 0.]\n",
      " [6. 4. 8. 0. 0.]\n",
      " [4. 7. 2. 5. 0.]\n",
      " [3. 6. 2. 4. 6.]]\n",
      "[[2. 2. 3. 4. 0.]\n",
      " [0. 6. 5. 6. 3.]\n",
      " [0. 0. 8. 2. 4.]\n",
      " [0. 0. 0. 5. 3.]\n",
      " [0. 0. 0. 0. 9.]]\n",
      "[[  4.   4.   6.   8.   0.]\n",
      " [  4.  40.  36.  44.  18.]\n",
      " [ 12.  36. 102.  64.  44.]\n",
      " [  8.  50.  63.  87.  44.]\n",
      " [  6.  42.  55.  72.  92.]]\n",
      "[[ 1.00000000e+00  4.00000000e+01  3.60000000e+01  4.40000000e+01\n",
      "   1.80000000e+01]\n",
      " [ 4.00000000e+01  1.00000000e+00 -3.91236307e-04 -2.29568388e-04\n",
      "   5.55555556e-02]\n",
      " [ 3.60000000e+01 -7.93650794e-04  4.79518072e-01 -2.30627306e-04\n",
      "  -1.66567663e-03]\n",
      " [ 5.00000000e+01 -4.65116181e-04 -4.67945718e-04  4.89914213e-01\n",
      "  -9.46741042e-04]\n",
      " [ 4.20000000e+01  2.38095238e-02 -8.22005178e-04 -4.71620538e-04\n",
      "   1.00000000e+00]]\n"
     ]
    }
   ],
   "source": [
    "l, u = decompose_lu(A)\n",
    "print(l)"
   ]
  },
  {
   "cell_type": "code",
   "execution_count": 25,
   "metadata": {},
   "outputs": [],
   "source": [
    "def cholesky(A):\n",
    "    L = np.zeros_like(A)\n",
    "    n = len(L)\n",
    "    for i in range(n):\n",
    "        for j in range(i+1):\n",
    "            if i==j:\n",
    "                val = A[i,i] - np.sum(np.square(L[i,:i]))\n",
    "                if val<0:\n",
    "                    return 0.0\n",
    "                L[i,i] = np.sqrt(val)\n",
    "            else:\n",
    "                L[i,j] = (A[i,j] - np.sum(L[i,:j]*L[j,:j]))/L[j,j]\n",
    "#     for i in range(L.shape[0]):\n",
    "#         for j in range(L.shape[1]):\n",
    "#             L[i, j] /= D[i, i]\n",
    "        \n",
    "    return L"
   ]
  },
  {
   "cell_type": "code",
   "execution_count": 27,
   "metadata": {},
   "outputs": [
    {
     "name": "stdout",
     "output_type": "stream",
     "text": [
      "[[2. 0. 0. 0. 0.]\n",
      " [2. 6. 0. 0. 0.]\n",
      " [6. 4. 8. 0. 0.]\n",
      " [4. 7. 2. 5. 0.]\n",
      " [3. 6. 2. 4. 6.]]\n",
      "[[2. 2. 3. 4. 0.]\n",
      " [0. 6. 5. 6. 3.]\n",
      " [0. 0. 8. 2. 4.]\n",
      " [0. 0. 0. 5. 3.]\n",
      " [0. 0. 0. 0. 9.]]\n",
      "[[  4.   4.   6.   8.   0.]\n",
      " [  4.  40.  36.  44.  18.]\n",
      " [ 12.  36. 102.  64.  44.]\n",
      " [  8.  50.  63.  87.  44.]\n",
      " [  6.  42.  55.  72.  92.]]\n"
     ]
    }
   ],
   "source": [
    "Lp = np.array(([[2, 0, 0, 0, 0], [2, 6, 0, 0, 0], [6, 4, 8, 0, 0], [4, 7, 2 , 5, 0], [3, 6, 2, 4, 6]]), dtype=\"float64\")\n",
    "Up = np.array(([[2, 2, 3, 4, 0], [0, 6, 5, 6, 3], [0, 0, 8, 2, 4], [0, 0, 0, 5, 3], [0, 0, 0, 0, 9]]), dtype=\"float64\")\n",
    "\n",
    "\n",
    "print(Lp)\n",
    "print(Up)\n",
    "A = np.dot(Lp, Up)\n",
    "print(A)\n",
    "L = cholesky(A)\n"
   ]
  },
  {
   "cell_type": "code",
   "execution_count": 42,
   "metadata": {},
   "outputs": [
    {
     "name": "stdout",
     "output_type": "stream",
     "text": [
      "[[1.         0.         0.         0.         0.        ]\n",
      " [0.         1.         0.         0.         0.        ]\n",
      " [3.         0.         1.         0.         0.        ]\n",
      " [2.         1.25       0.         1.         0.        ]\n",
      " [1.5        1.05       0.54761905 0.         1.        ]]\n",
      "[[ 4.         4.         6.         8.         0.       ]\n",
      " [ 4.        40.        36.        44.        18.       ]\n",
      " [ 0.        24.        84.        40.        44.       ]\n",
      " [ 0.         0.         6.        16.        21.5      ]\n",
      " [ 0.         0.         0.        -8.1047619 49.0047619]]\n"
     ]
    }
   ],
   "source": [
    "def LUDecompose(table):\n",
    "    # Table that contains our data\n",
    "    # Table has to be a square array so we need to check first\n",
    "    rows, columns = np.shape(table)\n",
    "    L = np.zeros((rows, columns))\n",
    "    U = np.zeros((rows, columns))\n",
    "    if rows != columns:\n",
    "        return []\n",
    "    for i in range(columns):\n",
    "        for j in range(i - 1):\n",
    "            sum = 0\n",
    "            for k in range(j - 1):\n",
    "                sum += L[i][k] * U[k][j]\n",
    "            L[i][j] = (table[i][j] - sum) / U[j][j]\n",
    "        L[i][i] = 1\n",
    "        for j in range(i - 1, columns):\n",
    "            sum1 = 0\n",
    "            for k in range(i - 1):\n",
    "                sum1 += L[i][k] * U[k][j]\n",
    "            U[i][j] = table[i][j] - sum1\n",
    "    return L, U\n",
    "L, U = LUDecompose(A)\n",
    "print(L)\n",
    "print(U)"
   ]
  },
  {
   "cell_type": "code",
   "execution_count": 50,
   "metadata": {},
   "outputs": [],
   "source": [
    "def gera_matriz(ł, N):\n",
    "    A = np.zeros((N, N))\n",
    "    for i in range(N):\n",
    "        A[i, i] = 1 + 2*ł\n",
    "    for i in range(1, N):\n",
    "        A[i, i-1] = -ł\n",
    "    for i in range(0, N-1):\n",
    "        A[i, i+1] = -ł\n",
    "    return A"
   ]
  },
  {
   "cell_type": "code",
   "execution_count": 54,
   "metadata": {},
   "outputs": [
    {
     "name": "stdout",
     "output_type": "stream",
     "text": [
      "[[1. 0. 0.]\n",
      " [0. 1. 0.]\n",
      " [0. 0. 1.]]\n",
      "[[ 2.  -0.5  0. ]\n",
      " [-0.5  2.  -0.5]\n",
      " [ 0.  -0.5  2. ]]\n"
     ]
    }
   ],
   "source": [
    "lamb = 0.5\n",
    "N = 3\n",
    "A = gera_matriz(lamb, N)\n",
    "L, U = LUDecompose(A)\n",
    "print(L)\n",
    "print(U)"
   ]
  },
  {
   "cell_type": "code",
   "execution_count": 29,
   "metadata": {},
   "outputs": [
    {
     "data": {
      "text/plain": [
       "array([[  16.        ,   16.        ,   48.        ,   32.        ,\n",
       "          24.        ],\n",
       "       [  16.        , 1456.        , 1008.        , 1712.        ,\n",
       "        1464.        ],\n",
       "       [  48.        , 1008.        , 5884.        , 2338.        ,\n",
       "        2358.        ],\n",
       "       [  32.        , 1712.        , 2338.        , 3974.3       ,\n",
       "        3336.9       ],\n",
       "       [  24.        , 1464.        , 2358.        , 3336.9       ,\n",
       "        5775.26588355]])"
      ]
     },
     "execution_count": 29,
     "metadata": {},
     "output_type": "execute_result"
    }
   ],
   "source": [
    "aux = np.dot(L, D)\n",
    "np.dot(aux, np.transpose(L))"
   ]
  },
  {
   "cell_type": "code",
   "execution_count": 9,
   "metadata": {},
   "outputs": [
    {
     "data": {
      "text/plain": [
       "array([[0.25      , 0.025     , 0.02941176, 0.02298851, 0.01630435],\n",
       "       [0.025     , 0.025     , 0.00882353, 0.01436782, 0.01141304],\n",
       "       [0.02941176, 0.00882353, 0.00980392, 0.00709939, 0.00586104],\n",
       "       [0.02298851, 0.01436782, 0.00709939, 0.01149425, 0.0089955 ],\n",
       "       [0.01630435, 0.01141304, 0.00586104, 0.0089955 , 0.01086957]],\n",
       "      dtype=float32)"
      ]
     },
     "execution_count": 9,
     "metadata": {},
     "output_type": "execute_result"
    }
   ],
   "source": [
    "np.dot(L, np.transpose(L))"
   ]
  },
  {
   "cell_type": "code",
   "execution_count": null,
   "metadata": {},
   "outputs": [],
   "source": []
  }
 ],
 "metadata": {
  "kernelspec": {
   "display_name": "Python 3",
   "language": "python",
   "name": "python3"
  },
  "language_info": {
   "codemirror_mode": {
    "name": "ipython",
    "version": 3
   },
   "file_extension": ".py",
   "mimetype": "text/x-python",
   "name": "python",
   "nbconvert_exporter": "python",
   "pygments_lexer": "ipython3",
   "version": "3.6.9"
  }
 },
 "nbformat": 4,
 "nbformat_minor": 4
}
