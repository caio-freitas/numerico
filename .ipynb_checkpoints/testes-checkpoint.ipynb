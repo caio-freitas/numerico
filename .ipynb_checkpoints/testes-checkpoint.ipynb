{
 "cells": [
  {
   "cell_type": "code",
   "execution_count": 3,
   "metadata": {},
   "outputs": [],
   "source": [
    "import numpy as np\n",
    "import matplotlib.pyplot as plt"
   ]
  },
  {
   "cell_type": "code",
   "execution_count": 2,
   "metadata": {},
   "outputs": [
    {
     "name": "stdout",
     "output_type": "stream",
     "text": [
      "[[1. 0. 0. 0. 0.]\n",
      " [0. 1. 0. 0. 0.]\n",
      " [0. 0. 1. 0. 0.]\n",
      " [0. 0. 0. 1. 0.]\n",
      " [0. 0. 0. 0. 1.]]\n"
     ]
    }
   ],
   "source": [
    "M = 5\n",
    "N = 5\n",
    "L = np.zeros((int(M), int(N)), dtype='float64')\n",
    "U = np.zeros((int(M), int(N)), dtype='float64')\n",
    "ones = np.ones((int(N)))\n",
    "U = np.diag(ones)\n",
    "\n",
    "L = U\n",
    "print(L)"
   ]
  },
  {
   "cell_type": "code",
   "execution_count": 14,
   "metadata": {},
   "outputs": [],
   "source": [
    "def decompose_lu(A):\n",
    "    N = A.shape[0]\n",
    "    ones = np.ones(A.shape[0])\n",
    "    U = np.diag(ones)\n",
    "    L = U\n",
    "    \n",
    "    for j in range(1, N):\n",
    "        U[0][j] = A[1][j]/L[1][1]\n",
    "        L[j][0] = A[j][1]/U[1][1]\n",
    "    #print(U)\n",
    "    for i in range(1, N-1):\n",
    "        for j in range(1, N):\n",
    "            aux = 0\n",
    "            for k in range(i-1):\n",
    "                aux += L[i][k]*U[k][i]\n",
    "            U[i][j] = (1/L[i][i])/(A[i][j] - aux)\n",
    "            \n",
    "            for k in range(i-1):\n",
    "                aux += L[k][i]*U[i][k]\n",
    "            L[j][i] = (1/U[i][i])/(A[j][i] - aux)\n",
    "    return L, U"
   ]
  },
  {
   "cell_type": "code",
   "execution_count": 15,
   "metadata": {},
   "outputs": [
    {
     "name": "stdout",
     "output_type": "stream",
     "text": [
      "[[2. 0. 0. 0. 0.]\n",
      " [2. 6. 0. 0. 0.]\n",
      " [6. 4. 8. 0. 0.]\n",
      " [4. 7. 2. 5. 0.]\n",
      " [3. 6. 2. 4. 6.]]\n",
      "[[2. 2. 3. 4. 0.]\n",
      " [0. 6. 5. 6. 3.]\n",
      " [0. 0. 8. 2. 4.]\n",
      " [0. 0. 0. 5. 3.]\n",
      " [0. 0. 0. 0. 9.]]\n",
      "[[  4.   4.   6.   8.   0.]\n",
      " [  4.  40.  36.  44.  18.]\n",
      " [ 12.  36. 102.  64.  44.]\n",
      " [  8.  50.  63.  87.  44.]\n",
      " [  6.  42.  55.  72.  92.]]\n",
      "[[ 1.00000000e+00  4.00000000e+01  3.60000000e+01  4.40000000e+01\n",
      "   1.80000000e+01]\n",
      " [ 4.00000000e+01  1.00000000e+00 -3.91236307e-04 -2.29568388e-04\n",
      "   5.55555556e-02]\n",
      " [ 3.60000000e+01 -7.93650794e-04  4.79518072e-01 -2.30627306e-04\n",
      "  -1.66567663e-03]\n",
      " [ 5.00000000e+01 -4.65116181e-04 -4.67945718e-04  4.89914213e-01\n",
      "  -9.46741042e-04]\n",
      " [ 4.20000000e+01  2.38095238e-02 -8.22005178e-04 -4.71620538e-04\n",
      "   1.00000000e+00]]\n"
     ]
    }
   ],
   "source": [
    "l, u = decompose_lu(A)\n",
    "print(l)"
   ]
  },
  {
   "cell_type": "code",
   "execution_count": 25,
   "metadata": {},
   "outputs": [],
   "source": [
    "def cholesky(A):\n",
    "    L = np.zeros_like(A)\n",
    "    n = len(L)\n",
    "    for i in range(n):\n",
    "        for j in range(i+1):\n",
    "            if i==j:\n",
    "                val = A[i,i] - np.sum(np.square(L[i,:i]))\n",
    "                if val<0:\n",
    "                    return 0.0\n",
    "                L[i,i] = np.sqrt(val)\n",
    "            else:\n",
    "                L[i,j] = (A[i,j] - np.sum(L[i,:j]*L[j,:j]))/L[j,j]\n",
    "#     for i in range(L.shape[0]):\n",
    "#         for j in range(L.shape[1]):\n",
    "#             L[i, j] /= D[i, i]\n",
    "        \n",
    "    return L"
   ]
  },
  {
   "cell_type": "code",
   "execution_count": 27,
   "metadata": {},
   "outputs": [
    {
     "name": "stdout",
     "output_type": "stream",
     "text": [
      "[[2. 0. 0. 0. 0.]\n",
      " [2. 6. 0. 0. 0.]\n",
      " [6. 4. 8. 0. 0.]\n",
      " [4. 7. 2. 5. 0.]\n",
      " [3. 6. 2. 4. 6.]]\n",
      "[[2. 2. 3. 4. 0.]\n",
      " [0. 6. 5. 6. 3.]\n",
      " [0. 0. 8. 2. 4.]\n",
      " [0. 0. 0. 5. 3.]\n",
      " [0. 0. 0. 0. 9.]]\n",
      "[[  4.   4.   6.   8.   0.]\n",
      " [  4.  40.  36.  44.  18.]\n",
      " [ 12.  36. 102.  64.  44.]\n",
      " [  8.  50.  63.  87.  44.]\n",
      " [  6.  42.  55.  72.  92.]]\n"
     ]
    }
   ],
   "source": [
    "Lp = np.array(([[2, 0, 0, 0, 0], [2, 6, 0, 0, 0], [6, 4, 8, 0, 0], [4, 7, 2 , 5, 0], [3, 6, 2, 4, 6]]), dtype=\"float64\")\n",
    "Up = np.array(([[2, 2, 3, 4, 0], [0, 6, 5, 6, 3], [0, 0, 8, 2, 4], [0, 0, 0, 5, 3], [0, 0, 0, 0, 9]]), dtype=\"float64\")\n",
    "\n",
    "\n",
    "print(Lp)\n",
    "print(Up)\n",
    "A = np.dot(Lp, Up)\n",
    "print(A)\n",
    "L = cholesky(A)\n"
   ]
  },
  {
   "cell_type": "code",
   "execution_count": 42,
   "metadata": {},
   "outputs": [
    {
     "name": "stdout",
     "output_type": "stream",
     "text": [
      "[[1.         0.         0.         0.         0.        ]\n",
      " [0.         1.         0.         0.         0.        ]\n",
      " [3.         0.         1.         0.         0.        ]\n",
      " [2.         1.25       0.         1.         0.        ]\n",
      " [1.5        1.05       0.54761905 0.         1.        ]]\n",
      "[[ 4.         4.         6.         8.         0.       ]\n",
      " [ 4.        40.        36.        44.        18.       ]\n",
      " [ 0.        24.        84.        40.        44.       ]\n",
      " [ 0.         0.         6.        16.        21.5      ]\n",
      " [ 0.         0.         0.        -8.1047619 49.0047619]]\n"
     ]
    }
   ],
   "source": [
    "def LUDecompose(table):\n",
    "    # Table that contains our data\n",
    "    # Table has to be a square array so we need to check first\n",
    "    rows, columns = np.shape(table)\n",
    "    L = np.zeros((rows, columns))\n",
    "    U = np.zeros((rows, columns))\n",
    "    if rows != columns:\n",
    "        return []\n",
    "    for i in range(columns):\n",
    "        for j in range(i - 1):\n",
    "            sum = 0\n",
    "            for k in range(j - 1):\n",
    "                sum += L[i][k] * U[k][j]\n",
    "            L[i][j] = (table[i][j] - sum) / U[j][j]\n",
    "        L[i][i] = 1\n",
    "        for j in range(i - 1, columns):\n",
    "            sum1 = 0\n",
    "            for k in range(i - 1):\n",
    "                sum1 += L[i][k] * U[k][j]\n",
    "            U[i][j] = table[i][j] - sum1\n",
    "    return L, U\n",
    "L, U = LUDecompose(A)\n",
    "print(L)\n",
    "print(U)"
   ]
  },
  {
   "cell_type": "code",
   "execution_count": 47,
   "metadata": {},
   "outputs": [],
   "source": [
    "def gera_matriz(ł, N):\n",
    "    A = np.zeros((N, N))\n",
    "    for i in range(N):\n",
    "        A[i, i] = 1 + 2*ł\n",
    "    for i in range(1, N):\n",
    "        A[i, i-1] = -ł\n",
    "    for i in range(0, N-1):\n",
    "        A[i, i+1] = -ł\n",
    "    return A"
   ]
  },
  {
   "cell_type": "code",
   "execution_count": 29,
   "metadata": {},
   "outputs": [
    {
     "data": {
      "text/plain": [
       "array([[  16.        ,   16.        ,   48.        ,   32.        ,\n",
       "          24.        ],\n",
       "       [  16.        , 1456.        , 1008.        , 1712.        ,\n",
       "        1464.        ],\n",
       "       [  48.        , 1008.        , 5884.        , 2338.        ,\n",
       "        2358.        ],\n",
       "       [  32.        , 1712.        , 2338.        , 3974.3       ,\n",
       "        3336.9       ],\n",
       "       [  24.        , 1464.        , 2358.        , 3336.9       ,\n",
       "        5775.26588355]])"
      ]
     },
     "execution_count": 29,
     "metadata": {},
     "output_type": "execute_result"
    }
   ],
   "source": [
    "aux = np.dot(L, D)\n",
    "np.dot(aux, np.transpose(L))"
   ]
  },
  {
   "cell_type": "code",
   "execution_count": 9,
   "metadata": {},
   "outputs": [
    {
     "data": {
      "text/plain": [
       "array([[0.25      , 0.025     , 0.02941176, 0.02298851, 0.01630435],\n",
       "       [0.025     , 0.025     , 0.00882353, 0.01436782, 0.01141304],\n",
       "       [0.02941176, 0.00882353, 0.00980392, 0.00709939, 0.00586104],\n",
       "       [0.02298851, 0.01436782, 0.00709939, 0.01149425, 0.0089955 ],\n",
       "       [0.01630435, 0.01141304, 0.00586104, 0.0089955 , 0.01086957]],\n",
       "      dtype=float32)"
      ]
     },
     "execution_count": 9,
     "metadata": {},
     "output_type": "execute_result"
    }
   ],
   "source": [
    "np.dot(L, np.transpose(L))"
   ]
  },
  {
   "cell_type": "code",
   "execution_count": 70,
   "metadata": {},
   "outputs": [
    {
     "data": {
      "text/plain": [
       "array([[ 1.        , -0.33333333,  0.        ,  0.        ,  0.        ],\n",
       "       [ 0.        ,  1.        , -0.33333333,  0.        ,  0.        ],\n",
       "       [ 0.        ,  0.        ,  1.        , -0.33333333,  0.        ],\n",
       "       [ 0.        ,  0.        ,  0.        ,  1.        , -0.33333333],\n",
       "       [ 0.        ,  0.        ,  0.        ,  0.        ,  1.        ]])"
      ]
     },
     "execution_count": 70,
     "metadata": {},
     "output_type": "execute_result"
    }
   ],
   "source": [
    "lamb = 0.5\n",
    "N = 5\n",
    "A = gera_matriz(1, N)\n",
    "A = A/3\n",
    "A[1][0] = A[2][1] = A[3][2] = A[4][3] = 0\n",
    "A"
   ]
  },
  {
   "cell_type": "code",
   "execution_count": 115,
   "metadata": {},
   "outputs": [],
   "source": [
    "def decomporLDL(ł, N):\n",
    "\n",
    "    # L e D Vetores\n",
    "    D = np.zeros(N)\n",
    "    L = np.zeros(N-1)\n",
    "\n",
    "\n",
    "    # Condição inicial para prossegir com os cálculos\n",
    "    D[0] = D[0]\n",
    "\n",
    "    # Cálculo dos valores dos vetores L e D\n",
    "    for i in range (1, len(D)):\n",
    "        D[i] = D[0] - (((L[0]/ł)**2)*ł)\n",
    "    \n",
    "    for i in range (0, len(L)):\n",
    "        L[i] = L[0]/ł\n",
    "\n",
    "    # Criação das matrizes L e D a partir dos vetores\n",
    "    D_matriz = np.zeros((N, N))\n",
    "    L_matriz = np.zeros((N, N))\n",
    "\n",
    "    for i in range (0, N):\n",
    "        D_matriz[i][i] = D[i]\n",
    "        L_matriz[i][i] = 1      # A matriz L deve ter 1's na diagonal principal\n",
    "    \n",
    "    for i in range (0, N-1):\n",
    "        L_matriz[i+1][i] = L[i] #Colocando a subdiagonal de L\n",
    "\n",
    "    LT_matriz = np.transpose(L_matriz)\n",
    "\n",
    "    return (L_matriz, D_matriz, LT_matriz)\n",
    "def invert_diagonal(M):\n",
    "    inverse = np.diag(np.ones((M.shape[0])))\n",
    "    for i in range(M.shape[0]):\n",
    "        try:\n",
    "            inverse[i][i] = 1/M[i][i]\n",
    "        except Exception as e:\n",
    "            print(e)\n",
    "    return inverse\n",
    "\n",
    "def invert_bidiagonal(M, type):\n",
    "    inverse = np.diag(np.ones((M.shape[0])))\n",
    "    if type == \"lower\":\n",
    "        M = np.transpose(M)\n",
    "        inverse = invert_bidiagonal(M, \"upper\")\n",
    "        return np.transpose(inverse)\n",
    "\n",
    "    elif type == \"upper\":\n",
    "        for i in range(M.shape[0] - 1):\n",
    "            inverse[i][i+1] = -M[i][i+1]\n",
    "        for k in range(2, M.shape[0]):\n",
    "            for i in range(M.shape[0] - k):\n",
    "                inverse[i][k+i] = inverse[i][k+i-1]*inverse[i+1][k+i]/inverse[i+1][k+i-1]\n",
    "\n",
    "        return inverse\n"
   ]
  },
  {
   "cell_type": "code",
   "execution_count": 118,
   "metadata": {},
   "outputs": [
    {
     "name": "stdout",
     "output_type": "stream",
     "text": [
      "[[1.         0.33333333 0.         0.         0.        ]\n",
      " [0.         1.         0.33333333 0.         0.        ]\n",
      " [0.         0.         1.         0.33333333 0.        ]\n",
      " [0.         0.         0.         1.         0.33333333]\n",
      " [0.         0.         0.         0.         1.        ]]\n",
      "K: 2\n",
      "  i: 0\n",
      "  Elemento (0, 2) = 0.1111111111111111\n",
      "  i: 1\n",
      "  Elemento (1, 3) = 0.1111111111111111\n",
      "  i: 2\n",
      "  Elemento (2, 4) = 0.1111111111111111\n",
      "K: 3\n",
      "  i: 0\n",
      "  Elemento (0, 3) = 0.037037037037037035\n",
      "  i: 1\n",
      "  Elemento (1, 4) = 0.037037037037037035\n",
      "K: 4\n",
      "  i: 0\n",
      "  Elemento (0, 4) = 0.012345679012345678\n"
     ]
    },
    {
     "data": {
      "text/plain": [
       "array([[1.        , 0.33333333, 0.11111111, 0.03703704, 0.01234568],\n",
       "       [0.        , 1.        , 0.33333333, 0.11111111, 0.03703704],\n",
       "       [0.        , 0.        , 1.        , 0.33333333, 0.11111111],\n",
       "       [0.        , 0.        , 0.        , 1.        , 0.33333333],\n",
       "       [0.        , 0.        , 0.        , 0.        , 1.        ]])"
      ]
     },
     "execution_count": 118,
     "metadata": {},
     "output_type": "execute_result"
    }
   ],
   "source": [
    "invert_bidiagonal(A, \"upper\")"
   ]
  },
  {
   "cell_type": "code",
   "execution_count": 2,
   "metadata": {},
   "outputs": [
    {
     "data": {
      "text/plain": [
       "0.0625"
      ]
     },
     "execution_count": 2,
     "metadata": {},
     "output_type": "execute_result"
    }
   ],
   "source": [
    "item = 'a'\n",
    "cond_ini(0.5, 20)"
   ]
  },
  {
   "cell_type": "code",
   "execution_count": 112,
   "metadata": {},
   "outputs": [],
   "source": [
    "def funcao_fonte(x_pt, t, N): # funcao de entrada\n",
    "    global item\n",
    "    #return 10*(x_pt**2)*(x_pt-1) - 60*x_pt*t + 20*t\n",
    "    if item == 'a':\n",
    "        return 10*(np.cos(10*t))*(x_pt**2)*((1-x_pt)**2) - (1+(np.sin(10*t)))*(12*(x_pt**2)-12*x_pt+2) # item a\n",
    "    elif item == 'b':\n",
    "        return (np.exp(t-x_pt)*(-np.sin(5*t*x_pt)*5*x_pt - 10*t*np.sin(5*t*x_pt)+np.cos(5*t*x_pt)*25*t*t))   # item b\n",
    "    elif item == 'c':\n",
    "        if x_pt == int(N*0.25):\n",
    "            return (10000*(1 - 2*t*t))/delta_x\n",
    "        else:\n",
    "            return 0\n",
    "\n",
    "\n",
    "def funcao_exata(x, t):\n",
    "    #return (10*t*x*x*(x-1))\n",
    "    if item =='a':\n",
    "        return ((1 + np.sin(10*t))*(x**2)*((1-x)**2))\n",
    "    elif item == 'b':\n",
    "        return np.exp(t-x)*np.cos(5*t*x)\n",
    "\n",
    "def gera_matriz_funcao_exata(M, N, delta_t, delta_x):\n",
    "    f_exata = np.zeros((int(M)+1, int(N)+1), dtype='float64')\n",
    "    for i in range(1, int(M)+1):\n",
    "        t = (i-1)*delta_t\n",
    "        for j in range(1, int(N)+1):\n",
    "            x = j*delta_x\n",
    "            f_exata[i][j] = funcao_exata(x, t)\n",
    "    for i in range (0,N): # para todos os x's analisados\n",
    "        f_exata[0][i] = cond_ini(i*delta_x, N)\n",
    "\n",
    "    for j in range(0, int(M)+1): # para todos os t's analisados\n",
    "        f_exata[j][0] = g1(j*delta_t)\n",
    "        f_exata[j][N] = g2(j*delta_t)\n",
    "    return f_exata\n",
    "\n",
    "def cond_ini (x, N):\n",
    "    #return ((x**2)*((1-x)**2))\n",
    "    if item =='a':\n",
    "        return ((x**2)*((1-x)**2))\n",
    "    elif item =='b':\n",
    "        return np.exp(-x)       \n",
    "    elif item == 'c':\n",
    "        return funcao_fonte(x, 0, N)\n",
    "\n",
    "def g1(t): # condição de contorno, x=0\n",
    "    \n",
    "    if item == 'a' or item == 'c':\n",
    "        return 0\n",
    "    elif item =='b': \n",
    "        return (np.exp(t))\n",
    "\n",
    "def g2(t): # condição de contorno, x=1\n",
    "    \n",
    "    if item =='a' or item == 'c':\n",
    "        \n",
    "        return 0\n",
    "    elif item =='b':\n",
    "\n",
    "        return (np.exp(t-1)*np.cos(5*t))\n",
    "\n",
    "'''\n",
    "A decomposição LDLt recebe\n",
    "\n",
    "- a: Vetor com a diagonal principal da matriz\n",
    "- b: Vetor com a subdiagonal da matriz\n",
    "\n",
    "E retorna\n",
    "- L: matriz bidiagonal inferior\n",
    "- D: Matriz diagonal\n",
    "- Lt: A transposta de L\n",
    "'''\n",
    "\n",
    "def decomporLDL(ł, N):\n",
    "    # L e D Vetores\n",
    "    D = np.zeros(N)\n",
    "    L = np.zeros(N-1)\n",
    "\n",
    "    # Condição inicial para prossegir com os cálculos\n",
    "    D[0] = 1 + 2*ł\n",
    "    # Cálculo dos valores dos vetores L e D\n",
    "    for i in range (1, len(D)):\n",
    "        D[i] = 1+2*ł - (((-ł/D[i-1])**2)*D[i-1])\n",
    "    \n",
    "    for i in range (0, len(L)):\n",
    "        L[i] = -ł/D[i]\n",
    "\n",
    "    # Criação das matrizes L e D a partir dos vetores\n",
    "    D_matriz = np.zeros((N, N))\n",
    "    L_matriz = np.zeros((N, N))\n",
    "\n",
    "    for i in range (0, N):\n",
    "        D_matriz[i][i] = D[i]\n",
    "        L_matriz[i][i] = 1      # A matriz L deve ter 1's na diagonal principal\n",
    "    \n",
    "    for i in range (0, N-1):\n",
    "        L_matriz[i+1][i] = L[i] #Colocando a subdiagonal de L\n",
    "\n",
    "    LT_matriz = np.transpose(L_matriz)\n",
    "\n",
    "    return (L_matriz, D_matriz, LT_matriz)\n",
    "\n",
    "\n",
    "def invert_diagonal(M):\n",
    "    inverse = np.diag(np.ones((M.shape[0])))\n",
    "    for i in range(M.shape[0]):\n",
    "        try:\n",
    "            inverse[i][i] = 1/M[i][i]\n",
    "        except Exception as e:\n",
    "            print(e)\n",
    "    return inverse\n",
    "\n",
    "\n",
    "def invert_bidiagonal(M, type):\n",
    "    inverse = np.diag(np.ones((M.shape[0])))\n",
    "    if type == \"lower\":\n",
    "        M = np.transpose(M)\n",
    "        inverse = invert_bidiagonal(M, \"upper\")\n",
    "        return np.transpose(inverse)\n",
    "\n",
    "    elif type == \"upper\":\n",
    "        for i in range(M.shape[0] - 1):\n",
    "            inverse[i][i+1] = -M[i][i+1]\n",
    "        for k in range(2, M.shape[0]):  \n",
    "            for i in range(M.shape[0] - k):\n",
    "                inverse[i][k+i] = inverse[i][k+i-1]*inverse[i+1][k+i]/inverse[i+1][k+i-1]\n",
    "\n",
    "        return inverse\n"
   ]
  },
  {
   "cell_type": "code",
   "execution_count": 113,
   "metadata": {},
   "outputs": [],
   "source": [
    "N = 10\n",
    "lamb = 0.5\n",
    "x_total = t_total = 1\n",
    "item = 'a'"
   ]
  },
  {
   "cell_type": "code",
   "execution_count": 124,
   "metadata": {},
   "outputs": [
    {
     "name": "stdout",
     "output_type": "stream",
     "text": [
      "Calculo para N=10, lambda=0.5\n"
     ]
    }
   ],
   "source": [
    "print(\"Calculo para N={}, lambda={}\".format(N, lamb))\n",
    "delta_x = x_total/N     # resolucao espacial do analise\n",
    "M = N         # numero de instantes de tempo analisados\n",
    "delta_t = delta_x     # resolucao temporal da analise\n",
    "\n",
    "# ####### zolubas\n",
    "# M = (N**2)/lamb         # numero de instantes de tempo analisados\n",
    "# delta_x = x_total/N     # resolucao espacial do analise\n",
    "# delta_t = t_total/M     # resolucao temporal da analise\n",
    "\n",
    "                # Variaveis para acompanhar o andamento do processo\n",
    "               \n",
    "matriz = np.zeros((int(M)+1, int(N)+1), dtype='float64')    # inicializacao da matriz\n",
    "for i in range (0,N+1):                                       # para todos os x's analisados\n",
    "    matriz[0][i] = cond_ini(i*delta_x, N)\n",
    "\n",
    "for j in range(0, int(M)+1):                                # para todos os t's analisados\n",
    "    matriz[j][0] = g1(j*delta_t)\n",
    "    matriz[j][N] = g2(j*delta_t)\n"
   ]
  },
  {
   "cell_type": "code",
   "execution_count": 125,
   "metadata": {},
   "outputs": [],
   "source": [
    "v = np.zeros((N-1))                    # aux = np.dot(invert_bidiagonal(L, \"lower\"), v)\n",
    "    # aux = np.dot(invert_diagonal(D), aux)\n",
    "    # matriz[k+1][0:N] = np.dot(invert_bidiagonal(Lt, \"upper\"), \n",
    "L, D, Lt = decomporLDL(lamb, N - 1)\n",
    "for k in range (0,int(M)): # para cada intervalo de tempo\n",
    "    t = (k+1)*delta_t\n",
    "    v[0] =  (1-lamb)*matriz[k][1] + lamb*(matriz[k][0] + g1(k*delta_t) + matriz[k][2])/2 + delta_t*(funcao_fonte(delta_x, k*delta_t, N-1) + funcao_fonte(delta_x, t, N-1))/2\n",
    "    v[N-2] = (1-lamb)*matriz[k][N-1] + lamb*(matriz[k][N] + g2(k*delta_t) + matriz[k][N-2])/2 + delta_t*(funcao_fonte((N-1)*delta_x, k*delta_t, N-1) + funcao_fonte((N-1)*delta_x, t, N-1))/2\n",
    "    for j in range(1, N-2): # para cada x\n",
    "        x = j*delta_x\n",
    "        v[j] = (1-lamb)*matriz[k][j] + lamb*(matriz[k][j-1] - 2*matriz[k][j] + matriz[k][j+1])/2 + delta_t*(funcao_fonte(x, k*delta_t, N-1) + funcao_fonte(x, t, N-1))\n",
    "    \n",
    "\n",
    "    aux = np.dot(invert_bidiagonal(L, \"lower\"), v)\n",
    "    aux = np.dot(invert_diagonal(D), aux)\n",
    "    matriz[k+1][0:N-1] = np.dot(invert_bidiagonal(Lt, \"upper\"), aux) # elementor [1, N-1]\n",
    "    if k == 0:\n",
    "        break"
   ]
  },
  {
   "cell_type": "code",
   "execution_count": 126,
   "metadata": {},
   "outputs": [
    {
     "data": {
      "text/plain": [
       "<matplotlib.image.AxesImage at 0x7fb6c1dc6b00>"
      ]
     },
     "execution_count": 126,
     "metadata": {},
     "output_type": "execute_result"
    },
    {
     "data": {
      "image/png": "[encoded data removed]",
      "text/plain": [
       "<Figure size 432x288 with 1 Axes>"
      ]
     },
     "metadata": {
      "needs_background": "light"
     },
     "output_type": "display_data"
    }
   ],
   "source": [
    "plt.figure()\n",
    "plt.xlabel(\"Tempo (t)\")\n",
    "plt.ylabel(\"Posicao (x)\")\n",
    "plt.matshow(np.transpose(matriz), fignum = 0, interpolation = 'none', cmap = 'hot', origin = 'lower', aspect=\"auto\")"
   ]
  },
  {
   "cell_type": "code",
   "execution_count": 127,
   "metadata": {},
   "outputs": [
    {
     "data": {
      "text/plain": [
       "<matplotlib.image.AxesImage at 0x7fb6c1da4e48>"
      ]
     },
     "execution_count": 127,
     "metadata": {},
     "output_type": "execute_result"
    },
    {
     "data": {
      "image/png": "[encoded data removed]",
      "text/plain": [
       "<Figure size 432x288 with 1 Axes>"
      ]
     },
     "metadata": {
      "needs_background": "light"
     },
     "output_type": "display_data"
    }
   ],
   "source": [
    "matriz_ideal = gera_matriz_funcao_exata(M, N, delta_t, delta_x)\n",
    "matriz_ideal = np.transpose(matriz_ideal)\n",
    "plt.xlabel(\"Tempo (t)\")\n",
    "plt.ylabel(\"Posicao (x)\")\n",
    "plt.matshow(matriz_ideal, fignum = 0, interpolation = 'none', cmap = 'hot', origin = 'lower', aspect=\"auto\")"
   ]
  },
  {
   "cell_type": "code",
   "execution_count": 128,
   "metadata": {},
   "outputs": [
    {
     "data": {
      "text/plain": [
       "array([[ 1.5 , -0.25,  0.  ,  0.  ,  0.  ,  0.  ,  0.  ,  0.  ,  0.  ],\n",
       "       [-0.25,  1.5 , -0.25,  0.  ,  0.  ,  0.  ,  0.  ,  0.  ,  0.  ],\n",
       "       [ 0.  , -0.25,  1.5 , -0.25,  0.  ,  0.  ,  0.  ,  0.  ,  0.  ],\n",
       "       [ 0.  ,  0.  , -0.25,  1.5 , -0.25,  0.  ,  0.  ,  0.  ,  0.  ],\n",
       "       [ 0.  ,  0.  ,  0.  , -0.25,  1.5 , -0.25,  0.  ,  0.  ,  0.  ],\n",
       "       [ 0.  ,  0.  ,  0.  ,  0.  , -0.25,  1.5 , -0.25,  0.  ,  0.  ],\n",
       "       [ 0.  ,  0.  ,  0.  ,  0.  ,  0.  , -0.25,  1.5 , -0.25,  0.  ],\n",
       "       [ 0.  ,  0.  ,  0.  ,  0.  ,  0.  ,  0.  , -0.25,  1.5 , -0.25],\n",
       "       [ 0.  ,  0.  ,  0.  ,  0.  ,  0.  ,  0.  ,  0.  , -0.25,  1.5 ]])"
      ]
     },
     "execution_count": 128,
     "metadata": {},
     "output_type": "execute_result"
    }
   ],
   "source": [
    "M = gera_matriz(lamb/2, N-1)\n",
    "M"
   ]
  },
  {
   "cell_type": "code",
   "execution_count": 129,
   "metadata": {},
   "outputs": [
    {
     "data": {
      "text/plain": [
       "array([0.    , 0.0081, 0.0256, 0.0441, 0.0576, 0.0625, 0.0576, 0.0441,\n",
       "       0.0256, 0.0081, 0.    ])"
      ]
     },
     "execution_count": 129,
     "metadata": {},
     "output_type": "execute_result"
    }
   ],
   "source": [
    "matriz[0,:]"
   ]
  },
  {
   "cell_type": "code",
   "execution_count": 120,
   "metadata": {},
   "outputs": [
    {
     "data": {
      "text/plain": [
       "array([-0.09095137, -0.1357666 ,  0.03296273,  0.20811757,  0.32653992,\n",
       "        0.3672004 ,  0.32382971,  0.1972767 , -0.00769055,  0.        ,\n",
       "        0.        ])"
      ]
     },
     "execution_count": 120,
     "metadata": {},
     "output_type": "execute_result"
    }
   ],
   "source": [
    "matriz[1,:]"
   ]
  },
  {
   "cell_type": "code",
   "execution_count": 121,
   "metadata": {},
   "outputs": [
    {
     "data": {
      "text/plain": [
       "array([0.0081    , 0.0081    , 0.01491591, 0.01546531, 0.00924307,\n",
       "       0.0019699 , 0.00033271, 0.00583673, 0.01342159, 0.0161138 ,\n",
       "       0.01143816])"
      ]
     },
     "execution_count": 121,
     "metadata": {},
     "output_type": "execute_result"
    }
   ],
   "source": [
    "matriz_ideal[1,:]"
   ]
  },
  {
   "cell_type": "code",
   "execution_count": 130,
   "metadata": {},
   "outputs": [
    {
     "data": {
      "text/plain": [
       "array([-0.10248541, -0.18915274,  0.03135635,  0.2223007 ,  0.34598039,\n",
       "        0.3882082 ,  0.34462528,  0.21688026, -0.06085499])"
      ]
     },
     "execution_count": 130,
     "metadata": {},
     "output_type": "execute_result"
    }
   ],
   "source": [
    "np.dot(M, matriz[1,0:N-1])"
   ]
  },
  {
   "cell_type": "code",
   "execution_count": 109,
   "metadata": {},
   "outputs": [
    {
     "data": {
      "text/plain": [
       "array([-0.11401944, -0.24253888,  0.02974997,  0.23648382,  0.36542086,\n",
       "        0.40921599,  0.36542086,  0.23648382, -0.11401944])"
      ]
     },
     "execution_count": 109,
     "metadata": {},
     "output_type": "execute_result"
    }
   ],
   "source": [
    "v"
   ]
  },
  {
   "cell_type": "code",
   "execution_count": 108,
   "metadata": {},
   "outputs": [
    {
     "data": {
      "text/plain": [
       "array([ 0.010125  ,  0.00639602,  0.01648255,  0.01715822,  0.00950581,\n",
       "        0.0005609 , -0.00145259,  0.00531653,  0.0186732 ])"
      ]
     },
     "execution_count": 108,
     "metadata": {},
     "output_type": "execute_result"
    }
   ],
   "source": [
    "np.dot(M, matriz_ideal[1,0:N-1])"
   ]
  },
  {
   "cell_type": "code",
   "execution_count": 110,
   "metadata": {},
   "outputs": [
    {
     "data": {
      "text/plain": [
       "array([-0.10512244, -0.17465685,  0.02733685,  0.21967805,  0.34479618,\n",
       "        0.38741558,  0.34283333,  0.20790097, -0.0413628 ])"
      ]
     },
     "execution_count": 110,
     "metadata": {},
     "output_type": "execute_result"
    }
   ],
   "source": [
    "np.dot(np.linalg.inv(M), v)"
   ]
  },
  {
   "cell_type": "code",
   "execution_count": null,
   "metadata": {},
   "outputs": [],
   "source": []
  }
 ],
 "metadata": {
  "kernelspec": {
   "display_name": "Python 3",
   "language": "python",
   "name": "python3"
  },
  "language_info": {
   "codemirror_mode": {
    "name": "ipython",
    "version": 3
   },
   "file_extension": ".py",
   "mimetype": "text/x-python",
   "name": "python",
   "nbconvert_exporter": "python",
   "pygments_lexer": "ipython3",
   "version": "3.6.9"
  }
 },
 "nbformat": 4,
 "nbformat_minor": 4
}
